{
 "cells": [
  {
   "cell_type": "markdown",
   "metadata": {},
   "source": [
    "Programación para *Data Science*\n",
    "============================\n",
    "\n",
    "Unidad 4: Librerías científicas en Python\n",
    "--------------------------------------\n",
    "\n",
    "\n",
    "En este Notebook encontraréis dos conjuntos de ejercicios: un primer conjunto de **ejercicios para practicar** y un segundo conjunto de **actividades evaluables** como PEC de la asignatura.\n",
    "\n",
    "En cuanto al conjunto de ejercicios para practicar, éstos no puntúan para la PEC, pero os recomendamos que los intentéis resolver como parte del proceso de aprendizaje. Encontraréis ejemplos de posibles soluciones a los ejercicios al propio notebook, pero es importante que intentéis resolverlos vosotros antes de consultar las soluciones. Las soluciones os permitirán validar vuestras respuestas, así como ver alternativas de resolución de las actividades. También os animamos a preguntar cualquier duda que surja sobre la resolución de los **ejercicios para practicar** en el foro del aula.\n",
    "\n",
    "En relación a las actividades evaluables, veréis que cada una de ellas tiene asociada una puntuación que indica el peso que tiene la actividad sobre la nota de la PEC. Adicionalmente, hay un ejercicio opcional, que no tiene puntuación dentro de la PEC, pero que se valora al final del semestre de cara a conceder las matrículas de honor y redondear las notas finales. Podéis sacar la máxima nota de la PEC sin necesidad de hacer este ejercicio! El objetivo de este ejercicio es que sirva como pequeño reto para los estudiantes que quieran profundizar en el contenido de la asignatura.\n",
    "\n",
    "Además, veréis que todas las actividades tienen una etiqueta que indica los recursos necesarios para llevarla a cabo. Hay tres posibles etiquetas:\n",
    "\n",
    "* <span style=\"font-family: Courier New; background-color: #82b74b; color: #000000; padding: 3px; \">NM</span> **Sólo materiales**: las herramientas necesarias para realizar la actividad se pueden encontrar en los materiales de la asignatura. \n",
    "\n",
    "* <span style=\"font-family: Courier New; background-color: #ffcc5c; color: #000000; padding: 3px; \">EG</span> **Consulta externa guiada**: la actividad puede requerir hacer uso de herramientas que no se encuentran en los materiales de la asignatura, pero el enunciado contiene indicaciones de dónde o cómo encontrar la información adicional necesaria para resolver la actividad.\n",
    "\n",
    "* <span style=\"font-family: Courier New; background-color: #f2ae72; color: #000000; padding: 3px; \">EI</span> **Consulta externa independente**: la actividad puede requerir hacer uso de herramientas que no se encuentran en los materiales de la asignatura, y el enunciado puede no incluir la descripción de dónde o cómo encontrar esta información adicional. Será necesario que el estudiante busque esta información utilizando los recursos que se han explicado en la asignatura.\n",
    "\n",
    "Es importante notar que estas etiquetas no indican el nivel de dificultad del ejercicio, sino únicamente la necesidad de consulta de documentación externa para su resolución. Además, recordad que las **etiquetas son informativas**, pero podréis consultar referencias externas en cualquier momento (aunque no se indique explícitamente) o puede ser que podáis hacer una actividad sin consultar ningún tipo de documentación. Por ejemplo, para resolver una actividad que sólo requiera los materiales de la asignatura, puedéis consultar referencias externas si queréis, ya sea tanto para ayudaros en la resolución como para ampliar el conocimiento!\n",
    "\n",
    "En cuanto a la consulta de documentación externa en la resolución de los ejercicios, recordad **citar siempre la bibliografía utilizada** para resolver cada actividad."
   ]
  },
  {
   "cell_type": "markdown",
   "metadata": {},
   "source": [
    "---"
   ]
  },
  {
   "cell_type": "markdown",
   "metadata": {},
   "source": [
    "## Ejercicios para practicar\n",
    "\n",
    "**Los siguientes 3 ejercicios no puntúan para la PEC**, pero os recomendamos que los intentéis resolver antes de pasar a los ejercicios propios de la PEC. También encontraréis las soluciones a estos ejercicios al final del Notebook."
   ]
  },
  {
   "cell_type": "markdown",
   "metadata": {},
   "source": [
    "### Ejercicio 1\n",
    "\n",
    "Definid una función que dadas dos matrices, devuelva el valor absoluto de la multiplicación de los determinantes ambas, es decir, dadas A y B, nuestra función devolverá `|det(A) * det(B)|`. \n",
    "\n",
    "**Nota:** Podéis consultar la documentación del módulo [linalg](https://docs.scipy.org/doc/numpy-1.15.0/reference/routines.linalg.html) para resolver este ejercicio. \n",
    "\n",
    "<span style=\"font-family: Courier New; background-color: #ffcc5c; color: #000000; padding: 3px; \">EG</span>"
   ]
  },
  {
   "cell_type": "code",
   "execution_count": 1,
   "metadata": {},
   "outputs": [
    {
     "name": "stdout",
     "output_type": "stream",
     "text": [
      "3\n"
     ]
    }
   ],
   "source": [
    "x = 3.7\n",
    "print(int(x))"
   ]
  },
  {
   "cell_type": "code",
   "execution_count": 2,
   "metadata": {},
   "outputs": [
    {
     "name": "stdout",
     "output_type": "stream",
     "text": [
      "119.99999999999982\n"
     ]
    }
   ],
   "source": [
    "# Respuesta\n",
    "import numpy as np\n",
    "\n",
    "def absolut(A,B):\n",
    "    detA = np.linalg.det(A)\n",
    "    detB = np.linalg.det(B)\n",
    "    mul = detA * detB\n",
    "    return abs(mul)\n",
    "\n",
    "A = np.random.randint(0,5, (5,5))\n",
    "B = np.random.randint(0,5, (5,5))\n",
    "print(absolut(A,B))\n",
    "    "
   ]
  },
  {
   "cell_type": "markdown",
   "metadata": {},
   "source": [
    "### Ejercicio 2 \n",
    "\n",
    "Cread una matriz 10x10 que corresponda con la [matriz identidad](https://es.wikipedia.org/wiki/Matriz_identidad) usando generadores básicos de arrays. Cread una matriz identidad 10x10 (esta vez usando generadores especificos de matrices identidad) y comprobad que ambas matrices son iguales. \n",
    "\n",
    "**Consideraciones:**\n",
    "\n",
    "- La primera matriz debe crearse usando constructores básicos de arrays, como los presentados en los Notebooks de teoría.\n",
    "- La segunda matriz debe generarse utilizando el generador de matrices identidad de numpy.\n",
    "- La comparación debe devolver True si las matrices son iguales (un único True), False de no ser así.\n",
    "\n",
    "**Nota:** Podéis consultar la documentación sobre [creación de matrices](https://docs.scipy.org/doc/numpy-1.15.1/reference/routines.array-creation.html) de Numpy para resolver este ejercicio.\n",
    "\n",
    "<span style=\"font-family: Courier New; background-color: #ffcc5c; color: #000000; padding: 3px; \">EG</span>"
   ]
  },
  {
   "cell_type": "code",
   "execution_count": 3,
   "metadata": {},
   "outputs": [
    {
     "name": "stdout",
     "output_type": "stream",
     "text": [
      "[[1 0 0 0 0 0 0]\n",
      " [0 1 0 0 0 0 0]\n",
      " [0 0 1 0 0 0 0]\n",
      " [0 0 0 1 0 0 0]\n",
      " [0 0 0 0 1 0 0]\n",
      " [0 0 0 0 0 1 0]\n",
      " [0 0 0 0 0 0 1]]\n",
      "[[1 0 0 0 0 0 0]\n",
      " [0 1 0 0 0 0 0]\n",
      " [0 0 1 0 0 0 0]\n",
      " [0 0 0 1 0 0 0]\n",
      " [0 0 0 0 1 0 0]\n",
      " [0 0 0 0 0 1 0]\n",
      " [0 0 0 0 0 0 1]]\n",
      "[[ True  True  True  True  True  True  True]\n",
      " [ True  True  True  True  True  True  True]\n",
      " [ True  True  True  True  True  True  True]\n",
      " [ True  True  True  True  True  True  True]\n",
      " [ True  True  True  True  True  True  True]\n",
      " [ True  True  True  True  True  True  True]\n",
      " [ True  True  True  True  True  True  True]]\n",
      "True\n"
     ]
    }
   ],
   "source": [
    "# Respuesta\n",
    "from numpy import identity as idt\n",
    "\n",
    "size = 7\n",
    "basic = np.zeros((size,size), dtype = int)\n",
    "for i, r in enumerate(basic):\n",
    "    r[i] = 1\n",
    "print(basic)\n",
    "\n",
    "ident = idt(7, dtype = int)\n",
    "print(ident)\n",
    "\n",
    "print((basic == ident))\n",
    "print(np.array_equal(basic, ident))\n"
   ]
  },
  {
   "cell_type": "markdown",
   "metadata": {},
   "source": [
    "### Ejercicio 3\n",
    "\n",
    "Representad en un único gráfico las funciones f1 y f2 definidas más abajo, evaluadas en el intervalo [0, 7] y con paso (resolución) 0.1. <span style=\"font-family: Courier New; background-color: #82b74b; color: #000000; padding: 3px; \">NM</span>"
   ]
  },
  {
   "cell_type": "code",
   "execution_count": 4,
   "metadata": {},
   "outputs": [],
   "source": [
    "import numpy as np\n",
    "\n",
    "def f1(x):\n",
    "    return np.power(x, 2)\n",
    "\n",
    "def f2(x):\n",
    "    return np.power(2,x)"
   ]
  },
  {
   "cell_type": "code",
   "execution_count": 6,
   "metadata": {},
   "outputs": [
    {
     "data": {
      "image/png": "[encoded data removed]",
      "text/plain": [
       "<Figure size 432x288 with 1 Axes>"
      ]
     },
     "metadata": {
      "needs_background": "light"
     },
     "output_type": "display_data"
    }
   ],
   "source": [
    "# Respuesta\n",
    "import numpy as np\n",
    "import matplotlib.pyplot as plt\n",
    "\n",
    "x_axis = np.arange(0, 7.1, 0.1)\n",
    "\n",
    "\n",
    "val_1 = [f1(i) for i in x_axis]\n",
    "val_2 = [f2(i) for i in x_axis]\n",
    "\n",
    "plt.plot(x_axis, val_1, 'r', x_axis, val_2, 'b')\n",
    "plt.legend(['x^2', '2^x'])\n",
    "plt.show()"
   ]
  },
  {
   "cell_type": "markdown",
   "metadata": {},
   "source": [
    "---"
   ]
  },
  {
   "cell_type": "markdown",
   "metadata": {},
   "source": [
    "## Ejercicios y preguntas teóricas para la PEC\n",
    "\n",
    "A continuación, encontraréis los **ejercicios y preguntas teóricas que debéis completar en esta PEC** y que forman parte de la evaluación de esta unidad."
   ]
  },
  {
   "cell_type": "markdown",
   "metadata": {},
   "source": [
    "<span style=\"color: #1d17f4; padding: 3px; font-size: x-large\">NumPy - Ejercicios</span>"
   ]
  },
  {
   "cell_type": "markdown",
   "metadata": {},
   "source": [
    "### Ejercicio 1\n",
    "\n",
    "Cread dos matrices, A y B, de mida 5x5 con números enteros aleatorios entre 1 y 10. A continuación cread una tercera matriz, C, de mida 2x5 a partir de la última fila de la matriz A y la primera fila de la matriz B: la primera fila de la matriz C será la última de la matriz A, y la segunda fila de la matriz C será la primera fila de la matriz B. Mostrad por pantalla el resultado obtenido.\n",
    "\n",
    "**(0.5 punts)** <span style=\"font-family: Courier New; background-color: #82b74b; color: #000000; padding: 2px; \">NM</span>"
   ]
  },
  {
   "cell_type": "code",
   "execution_count": 95,
   "metadata": {},
   "outputs": [
    {
     "name": "stdout",
     "output_type": "stream",
     "text": [
      "La matriz \"A\": \n",
      " [[ 5 10  2 10  8]\n",
      " [ 1  3  7  6  5]\n",
      " [ 1  7  2  2 10]\n",
      " [ 9  3  5  6  3]\n",
      " [ 4 10  7  2  3]] \n",
      "\n",
      "La matriz \"B\": \n",
      " [[ 3 10  9  9  6]\n",
      " [ 2 10  8 10  2]\n",
      " [ 6 10  7  1  7]\n",
      " [ 6  6  5  2  9]\n",
      " [ 9  7  8  5 10]] \n",
      "\n",
      "La matriz \"C\": \n",
      " [[ 4 10  7  2  3]\n",
      " [ 3 10  9  9  6]] \n",
      "\n"
     ]
    }
   ],
   "source": [
    "# Respuesta\n",
    "import numpy as np\n",
    "\n",
    "A = np.random.randint(1,11, (5,5))\n",
    "B =np.random.randint(1,11, (5,5))\n",
    "\n",
    "C = np.zeros((2,5), dtype = int)\n",
    "C[0, 0:] = A [-1, 0:]\n",
    "C[1, 0: ] = B [0, 0:]\n",
    "\n",
    "print('La matriz \"A\": \\n', A,'\\n')\n",
    "print('La matriz \"B\": \\n', B,'\\n')\n",
    "print('La matriz \"C\": \\n', C,'\\n')"
   ]
  },
  {
   "cell_type": "markdown",
   "metadata": {},
   "source": [
    "### Ejercicio 2\n",
    "\n",
    "Dadas las matrices A y B del ejercicio anterior, mostrad por pantalla el resultado de las siguientes operaciones:\n",
    "\n",
    "* Sumar las dos matrices\n",
    "* Restar la matriz B de la matriz A\n",
    "* Multiplicar las dos matrices\n",
    "\n",
    "Explicad brevemente cuál es el método de multiplicación escogido y porque.\n",
    "\n",
    "**(0.5 punts)** <span style=\"font-family: Courier New; background-color: #82b74b; color: #000000; padding: 2px; \">NM</span>"
   ]
  },
  {
   "cell_type": "code",
   "execution_count": 100,
   "metadata": {},
   "outputs": [
    {
     "name": "stdout",
     "output_type": "stream",
     "text": [
      "Operación \"A\" + \"B\": \n",
      "\n",
      " [[ 8 20 11 19 14]\n",
      " [ 3 13 15 16  7]\n",
      " [ 7 17  9  3 17]\n",
      " [15  9 10  8 12]\n",
      " [13 17 15  7 13]] \n",
      "\n",
      "Operación \"A\" - \"B\": \n",
      "\n",
      " [[ 2  0 -7  1  2]\n",
      " [-1 -7 -1 -4  3]\n",
      " [-5 -3 -5  1  3]\n",
      " [ 3 -3  0  4 -6]\n",
      " [-5  3 -1 -3 -7]] \n",
      "\n",
      "Operación \"np.dot\" de \"A\" y \"B\": \n",
      "\n",
      " [[179 286 253 207 234]\n",
      " [132 181 152  83 165]\n",
      " [131 182 169 135 152]\n",
      " [126 227 194 143 179]\n",
      " [113 243 199 162 141]]\n"
     ]
    }
   ],
   "source": [
    "# Respuesta\n",
    "import numpy as np\n",
    "\n",
    "#print(A, '\\n')\n",
    "#print(B, '\\n')\n",
    "\n",
    "print('Operación \"A\" + \"B\": \\n\\n', A + B, '\\n')\n",
    "print('Operación \"A\" - \"B\": \\n\\n', A - B, '\\n')\n",
    "print('Operación \"np.dot\" de \"A\" y \"B\": \\n\\n', np.dot(A,B))\n",
    "\n",
    "#Se podría multiplicar elemento a elemento (element-wise) obteniendo una matriz de mismas dimensiones y diferentes \n",
    "#valores, pero en este caso he usado np.dot, ya que es muy habitual trabajar con matrices que son compatibles pero de \n",
    "#diferentes dimensiones, (por ejemplo de dimensiones 4x10 * 10x20 = 4x20)\n",
    "\n",
    "#np.multiply(A,B) o A * B serían multiplicaciones elemento a elemento (element-wise )"
   ]
  },
  {
   "cell_type": "markdown",
   "metadata": {},
   "source": [
    "### Ejercicio 3\n",
    "\n",
    "Ordenad la matriz bidimensional ```[[5,1,7], [0,7,4], [7,23,1]]``` por columnas utilizando como algoritmo de ordenación el [Heapsort](https://en.wikipedia.org/wiki/Heapsort). \n",
    "\n",
    "**Nota:** Para resolver este ejercicio os puede ser de ayuda la función [sort](https://docs.scipy.org/doc/numpy/reference/generated/numpy.sort.html#numpy.sort) de Numpy que nos permite ordenar los elementos de un array N-dimensional.\n",
    "\n",
    "**(0.5 punts)** <span style=\"font-family: Courier New; background-color: #ffcc5c; color: #000000; padding: 3px; \">EG</span>"
   ]
  },
  {
   "cell_type": "code",
   "execution_count": 104,
   "metadata": {},
   "outputs": [
    {
     "name": "stdout",
     "output_type": "stream",
     "text": [
      "Array ordenada por columnas: \n",
      "\n",
      " [[ 0  1  1]\n",
      " [ 5  7  4]\n",
      " [ 7 23  7]]\n"
     ]
    }
   ],
   "source": [
    "# Respuesta   \n",
    "#https://www.programiz.com/dsa/heap-sort\n",
    "##https://www.youtube.com/watch?v=MtQL_ll5KhQ\n",
    "#PD: No he podido sacarlo con el Heapsort y no acababa de entender cómo se podía combinar con el \"np.sort\"\n",
    "#Al final he ordenado de forma normal por columna \n",
    "\n",
    "import numpy as np\n",
    "\n",
    "array = np.array([[5,1,7], [0,7,4], [7,23,1]])\n",
    "\n",
    "sol = np.sort(array, axis = 0)\n",
    "print('Array ordenada por columnas: \\n\\n', sol)\n",
    "\n",
    "\n",
    "#Pruebas varias:\n",
    "#\n",
    "#'''Los parámetros de las dos funciones son\n",
    "#   c: es una array correspondiente a una las columnas\n",
    "#   n: es la longitud del array\n",
    "#   i: es un índice concreto del array '''\n",
    "\n",
    "#Construyo la pirámide, donde cada número del array corresponde a un nodo de la pirámide, y\n",
    "#cada nodo corresponde a un índice, dejando el número mas grande en el índice 0:\n",
    "#def heapify(c, n, i):\n",
    "    \n",
    "#    big = i #posición 0 empieza siendo el mas grande\n",
    "#    l = 2 * i + 1 #posición 1\n",
    "#    r = 2 * i + 2 #posición 2\n",
    " \n",
    "#    if l < n and c[i] < c[l]:     #Si valor posicion 0 menor que valor posicion 1, \"big\" igual posicion 1\n",
    "#        big = l\n",
    " \n",
    "#    if r < n and c[big] < c[r]:   #Si valor posicion big menor que valor posicion 2, \"big\" igual a posicion 2\n",
    "#        big = r\n",
    " \n",
    "#    if big != i:                  #Ponemos el valor mas grande arriba, en la posicion 0\n",
    "#        c[i],c[big] = c[big],c[i] \n",
    "#        heapify(c, n, big)      #Volvemos a realizar la funcion con \"big\" igual a posicion previa con valor mas grande"
   ]
  },
  {
   "cell_type": "markdown",
   "metadata": {},
   "source": [
    "### Ejercicio 4\n",
    "\n",
    "Cread una matriz, I, de mida 10x10 donde todos sus elementos tendrán el valor `0` utilizando generadores de matrices de numpy. Modificad la matriz anterior de tal forma que ```I[i, j] = i * j``` para todo ```i``` y ```j``` pares, es decir, para todas las posiciones donde tanto `i` como `j` son pares.\n",
    "\n",
    "**(0.5 punts)** <span style=\"font-family: Courier New; background-color: #82b74b; color: #000000; padding: 2px; \">NM</span>"
   ]
  },
  {
   "cell_type": "code",
   "execution_count": 101,
   "metadata": {},
   "outputs": [
    {
     "name": "stdout",
     "output_type": "stream",
     "text": [
      "Matriz \"I\": \n",
      "\n",
      " [[ 0  0  0  0  0  0  0  0  0  0]\n",
      " [ 0  0  0  0  0  0  0  0  0  0]\n",
      " [ 0  0  4  0  8  0 12  0 16  0]\n",
      " [ 0  0  0  0  0  0  0  0  0  0]\n",
      " [ 0  0  8  0 16  0 24  0 32  0]\n",
      " [ 0  0  0  0  0  0  0  0  0  0]\n",
      " [ 0  0 12  0 24  0 36  0 48  0]\n",
      " [ 0  0  0  0  0  0  0  0  0  0]\n",
      " [ 0  0 16  0 32  0 48  0 64  0]\n",
      " [ 0  0  0  0  0  0  0  0  0  0]]\n"
     ]
    }
   ],
   "source": [
    "# Respuesta\n",
    "\n",
    "import numpy as np\n",
    "\n",
    "I = np.zeros((10,10), dtype = int)\n",
    "#print(I, '\\n')\n",
    "for i in range(10):\n",
    "    for j in range(10):\n",
    "        if i%2 == 0 and j%2 ==0:\n",
    "            I[i, j] = i * j\n",
    "print('Matriz \"I\": \\n\\n', I)"
   ]
  },
  {
   "cell_type": "markdown",
   "metadata": {},
   "source": [
    "### Ejercicio 5\n",
    "\n",
    "Una técnica que se aplica en muchos algoritmos de compresión de imagenes, como fase previa a la compresión, es asignar a cada píxel de la imagen el valor medio de sus N píxeles vecinos. Nosotros implementaremos una versión simplificada de esta técnica.\n",
    "\n",
    "Una imagen se puede ver como una matriz bidimensional donde cada elemento de la matriz corresponde a un valor de un píxel de la imagen. Por ejemplo, si generamos una imágen a partir de la matriz que os proporcionamos más abajo, veremos una imagen en escala de grises. Para probarlo podéis ejecutar la siguiente intrucción: ```generate_png(pixels)```. Esto os generará un fichero, ```generated.png```, en el directorio de la PAC.\n",
    "\n",
    "Cread una nueva matriz, ```pixels_transform```, a partir de la matriz ```pixels``` donde el valor de cada elemento de ```pixels_transform``` se calculará como la media de los valores de los 4 vecinos más próximos del correspondiente píxel en la matriz ```pixels```. Veámoslo formalmente:\n",
    "\n",
    "```\n",
    "pixels_transform[i, j] = (pixels[i, j-1] + pixels[i-1, j] + pixels[i, j+1] + pixels[i+1, j]) / 4\n",
    "```\n",
    "\n",
    "*Consideraciones:*\n",
    "\n",
    "* Consideramos como los 4 vecinos más próximos los píxeles anterior (izquierda), superior (arriba), posterior (derecha) e inferior (abajo) del píxel que estamos analizando.\n",
    "* Si no podemos acceder a alguno de estos vecinos (e.g. el píxel (0, 0) no tiene vecinos anterior y superior), asumimos que los valores que nos faltan son 0.\n",
    "\n",
    "Mostrad por pantalla el resultado obtenido.\n",
    "\n",
    "**Nota:** Para resolver este ejercicio necesitamos recorer todos los elementos de la matriz ```pixels``` y para cada elemento tenemos que comprobar los valores de sus 4 vecinos. Necesitaremos un bloque condicional (```if```) para cada uno de los elementos vecinos.\n",
    "\n",
    "**(1.5 punts)** <span style=\"font-family: Courier New; background-color: #82b74b; color: #000000; padding: 2px; \">NM</span>"
   ]
  },
  {
   "cell_type": "code",
   "execution_count": 28,
   "metadata": {},
   "outputs": [],
   "source": [
    "from PIL import Image\n",
    "import numpy as np\n",
    "\n",
    "pixels = [\n",
    "   [54, 93, 71, 168],\n",
    "   [122, 54, 167, 93],\n",
    "   [71, 167, 54, 122],\n",
    "   [167, 82, 23, 54]\n",
    "]\n",
    "\n",
    "# Podéis utilizar la siguiente función para generar una imagen a partir de un array de píxeles.\n",
    "# Por ejemplo, generate_png(pixels)\n",
    "def generate_png(matriz):\n",
    "    # Nos aseguramos que la matriz es un array de numpy\n",
    "    pixels = np.array(matriz)#, dtype=np.uint8)\n",
    "\n",
    "    # Utilizamos la librería PIL para crear una imagen a partir de una array de píxeles\n",
    "    imagen = Image.fromarray(pixels)\n",
    "    imagen.save('generated.png')\n",
    "generate_png(pixels)"
   ]
  },
  {
   "cell_type": "code",
   "execution_count": 102,
   "metadata": {},
   "outputs": [
    {
     "name": "stdout",
     "output_type": "stream",
     "text": [
      "Matriz \"pixels_transform\": \n",
      "\n",
      " [[ 53  44 107  41]\n",
      " [ 44 137  68 114]\n",
      " [114  65 119  50]\n",
      " [ 38  89  47  36]]\n"
     ]
    }
   ],
   "source": [
    "# Respuesta\n",
    "\n",
    "#Añado un padding de ceros a la matriz original\n",
    "pad_pixels = np.pad(pixels, (1, 1), 'constant', constant_values = (0, 0))\n",
    "\n",
    "\n",
    "#Inicializo una matriz nueva\n",
    "pixels_transform = pad_pixels.copy() \n",
    "\n",
    "#Aplico la transformacion a esa matriz\n",
    "for i in range(1,len(pixels_transform)-1):\n",
    "    for j in range(1,len(pixels_transform)-1):\n",
    "        pixels_transform[i, j] = (pad_pixels[i, j-1] + pad_pixels[i-1, j] + pad_pixels[i, j+1] + pad_pixels[i+1, j]) / 4\n",
    "        \n",
    "\n",
    "#Quito el padding de la matriz\n",
    "pixels_transform = pixels_transform[1:-1,1:len(pixels_transform)-1]\n",
    "print('Matriz \"pixels_transform\": \\n\\n', pixels_transform)\n",
    "\n",
    "\n",
    "#Pruebas varias:\n",
    "#print(pad_pixels, '\\n')\n",
    "#np.zeros((6,6), dtype = int)\n",
    "# print(\"Lectura literal de la matriz original: \", pad_pixels[i,j],\"Coordenada: \", \"(\" + str(i) + \",\" + str(j) + \")\",\"Vecinos: \", pad_pixels[i,j-1],pad_pixels[i-1, j],pad_pixels[i, j+1],pad_pixels[i+1, j])\n",
    "#print(\"Valores que guardo en la matriz nueva: \", pixels_transform[i, j],\"Coordenada: \",\"(\" + str(i) + \",\" + str(j) + \")\",\"Vecinos: \",pad_pixels[i, j-1],pad_pixels[i-1, j],pad_pixels[i, j+1],pad_pixels[i+1, j] )"
   ]
  },
  {
   "cell_type": "markdown",
   "metadata": {},
   "source": [
    "<br>\n",
    "<span style=\"color: #1d17f4; padding: 3px; font-size: x-large\">Matplotlib - Ejercicios</span>"
   ]
  },
  {
   "cell_type": "markdown",
   "metadata": {},
   "source": [
    "### Ejercicio 1\n",
    "\n",
    "Representad en una única gráfica las funciones f1 y f2 definidas más abajo, evaluadas en el intervalo [0, 2] y con paso (resolución) 0.01. Haced que los rangos de valores mostrados sean `[0.25, 2.25]` para el eje de las X y `[-1, 1]` para el eje de las Y. Adicionalmente, mostrad la gráfica correspondiente a ```f1``` con color <span style=\"color: green\">verde</span> y la gráfica correspondiente a ```f2``` con color <span style=\"color: red\">rojo</span>.\n",
    "\n",
    "**(1 punt)** <span style=\"font-family: Courier New; background-color: #82b74b; color: #000000; padding: 2px; \">NM</span>"
   ]
  },
  {
   "cell_type": "code",
   "execution_count": 30,
   "metadata": {},
   "outputs": [],
   "source": [
    "import numpy as np\n",
    "\n",
    "def f1(x):\n",
    "    return np.exp(-x)\n",
    "\n",
    "def f2(x):\n",
    "    return np.exp(-x) * np.sin(2 * np.pi * x)"
   ]
  },
  {
   "cell_type": "code",
   "execution_count": 31,
   "metadata": {},
   "outputs": [
    {
     "data": {
      "text/plain": [
       "[<matplotlib.lines.Line2D at 0xade21a0c>,\n",
       " <matplotlib.lines.Line2D at 0xaddc3f4c>]"
      ]
     },
     "execution_count": 31,
     "metadata": {},
     "output_type": "execute_result"
    },
    {
     "data": {
      "image/png": "[encoded data removed]",
      "text/plain": [
       "<Figure size 432x288 with 1 Axes>"
      ]
     },
     "metadata": {
      "needs_background": "light"
     },
     "output_type": "display_data"
    }
   ],
   "source": [
    "# Respuesta\n",
    "import numpy as np\n",
    "import matplotlib.pyplot as plt\n",
    "\n",
    "x_grid = np.arange(0,2, 0.01)\n",
    "x_plot = plt.axis([.25, 2.25, -1, 1])\n",
    "\n",
    "val_1 = [f1(i) for i in x_grid]\n",
    "val_2 = [f2(i) for i in x_grid]\n",
    "\n",
    "plt.plot(x_grid, val_1, 'g', x_grid, val_2, 'r')\n"
   ]
  },
  {
   "cell_type": "markdown",
   "metadata": {},
   "source": [
    "### Ejercicio 2\n",
    "\n",
    "A continuación os facilitamos los resultados de las elecciones generales, que tuvieron lugar en España el pasado mes de abril del 2019, para los 10 partidos más votados. Mostrad dos gráficas de barras con los resultados del número de votos y del número de diputados para cada partido respectivamente.\n",
    "\n",
    "*Consideraciones:*\n",
    "\n",
    "* Debéis mostrar las dos gráficas una al lado de la otra (distribución horizontal).\n",
    "* Cada gráfica tiene que mostrar los datos de manera horizontal (barras horizontales).\n",
    "* El eje de las Y debe incluir las etiquetas con el nombre de los partidos.\n",
    "* Debeís incluir un texto con el número de votos para cada partido dentro del gráfico. El texto debería estar situado a la derecha de cada barra.\n",
    "\n",
    "**Nota:** En el Notebook de teoria hemos visto como mostrar gráficas lineares simples. Matplotlib nos ofrece muchos otros tipos de gráficas, siendo las gráficas de barra uno de ellos. Para resolver este ejercicio podéis consultar la documentación oficial de [Matplotlib](https://matplotlib.org/3.1.1/api/_as_gen/matplotlib.pyplot.bar.html) para ver como trabajar con este tipo de gráficas. También os pueden resultar útiles las funciones [text](https://matplotlib.org/3.1.1/api/_as_gen/matplotlib.pyplot.text.html) o [annotate](https://matplotlib.org/3.1.1/api/_as_gen/matplotlib.pyplot.annotate.html) para mostrar el nombre de votos.\n",
    "\n",
    "**(1.5 punts)** <span style=\"font-family: Courier New; background-color: #ffcc5c; color: #000000; padding: 3px; \">EG</span>"
   ]
  },
  {
   "cell_type": "markdown",
   "metadata": {},
   "source": [
    "| Partido | Votos | Diputados |\n",
    "|--------|------|----------|\n",
    "| PSOE | 7513142 | 123 |\n",
    "| PP | 4373653 | 66 |\n",
    "| Cs | 4155665 | 57 |\n",
    "| PODEMOS-IU-EQUO | 2897419 | 33 |\n",
    "| VOX | 2688092 | 24 |\n",
    "| ERC | 1020392 | 15 |\n",
    "| ECP-GUANYEM | 615665 | 7 |\n",
    "| JxCAT | 500787 | 7 |\n",
    "| EAJ-PNV | 395884 | 6 |\n",
    "| PACMA | 328299 | 0 |"
   ]
  },
  {
   "cell_type": "code",
   "execution_count": 32,
   "metadata": {
    "scrolled": false
   },
   "outputs": [
    {
     "data": {
      "image/png": "[encoded data removed]",
      "text/plain": [
       "<Figure size 432x288 with 2 Axes>"
      ]
     },
     "metadata": {
      "needs_background": "light"
     },
     "output_type": "display_data"
    }
   ],
   "source": [
    "# Respuesta \n",
    "#https://stackoverflow.com/questions/30228069/how-to-display-the-value-of-the-bar-on-each-bar-with-pyplot-barh\n",
    "#https://matplotlib.org/3.1.1/api/_as_gen/matplotlib.pyplot.subplots.html#matplotlib.pyplot.subplots\n",
    "\n",
    "import matplotlib.pyplot as plt\n",
    "import numpy as np\n",
    "\n",
    "#Creo algunas listas con información útil\n",
    "x_votos = [7513142, 4373653, 4155665, 2897419, 2688092, 1020392,615665,500787,395884,328299]\n",
    "x_diputados = [123,66,57,33,24,15,7,7,6,0]\n",
    "y_partidos = ['PSOE', 'PP', 'Cs', 'PODEMOS-IU-EQUO', 'VOX', 'ERC', 'ECP-GUANYEM', 'JxCAT', 'EAJ-PNV', 'PACMA']\n",
    "y_pos = np.arange(len(y_partidos))\n",
    "bar_colors = ['b', 'g', 'r', 'c', 'm', 'y', 'k' ]\n",
    "\n",
    "#Preparo los dos subplots y añado las etiquetas con los nombres de los partidos\n",
    "fig, (ax1, ax2) = plt.subplots(1, 2, sharey=True)\n",
    "plt.yticks(y_pos,y_partidos)\n",
    "\n",
    "#Hago el gráfico 1, añado un título y el número de votos al lado de cada barra\n",
    "ax1.barh(y_pos, x_votos, color=bar_colors, alpha=.6 )\n",
    "ax1.set_title('Número de votos')\n",
    "for i, v in enumerate(x_votos):\n",
    "    ax1.text(v, i - .125, str(v), color='green', fontweight='bold')\n",
    "    \n",
    "#Hago el gráfico 2, añado un título y el número de diputados al lado de cada barra\n",
    "ax2.barh(y_pos, x_diputados, color=bar_colors, alpha =.6)\n",
    "ax2.set_title('Número de diputados')\n",
    "for i, v in enumerate(x_diputados):\n",
    "    ax2.text(v, i - .125, str(v), color='green', fontweight='bold')\n",
    "\n",
    "#Separo un poco los gŕaficos\n",
    "plt.subplots_adjust(left=0.1, bottom=.1, right=2, top=1.2, wspace=.1, hspace=.1)\n",
    "\n",
    "\n",
    "#Pruebas:\n",
    "#plt.subplot(1, 2, 1)\n",
    "#plt.barh(y_pos, x_votos)\n",
    "#plt.yticks(y_pos,y_partidos)\n",
    "#plt.subplot(1, 2, 2)\n",
    "#plt.barh(y_pos, x_diputados)\n",
    "#plt.subplots_adjust(left=0.1, bottom=.1, right=2, top=1.2, wspace=.1, hspace=.1)"
   ]
  },
  {
   "cell_type": "markdown",
   "metadata": {},
   "source": [
    "<br>\n",
    "<span style=\"color: #1d17f4; padding: 3px; font-size: x-large\">pandas - Ejercicios</span>"
   ]
  },
  {
   "cell_type": "markdown",
   "metadata": {},
   "source": [
    "### Ejercicio 1\n",
    "\n",
    "Cargad los datos del fichero _amazon.csv_, que podéis encontrar en la carpeta `data`, en un _dataframe_. Este conjunto de datos recoge información sobre el número de [incendios en bosques de Brasil](https://www.kaggle.com/gustavomodelli/forest-fires-in-brazil) entre el 1998 y el 2017.\n",
    "\n",
    "Mostrad el número de filas del _dataframe_ y el nombre de las columnas.\n",
    "\n",
    "*Consideraciones:*\n",
    "\n",
    "* Debéis mostrar únicamente la información que os pedimos al enunciado.\n",
    "\n",
    "**(0.5 punts)** <span style=\"font-family: Courier New; background-color: #82b74b; color: #000000; padding: 3px; \">NM</span>"
   ]
  },
  {
   "cell_type": "code",
   "execution_count": 33,
   "metadata": {},
   "outputs": [
    {
     "name": "stdout",
     "output_type": "stream",
     "text": [
      "Número de filas: 6454 \n",
      "Nombre de columnas: ['year', 'state', 'month', 'number', 'date']\n"
     ]
    }
   ],
   "source": [
    "# Respuesta\n",
    "#https://riptutorial.com/es/pandas/example/5745/lista-de-nombres-de-columna-de-dataframe\n",
    "#https://www.iteramos.com/pregunta/46183/como-obtener-el-numero-de-filas-de-pandas-dataframe\n",
    "import pandas as pd\n",
    "\n",
    "data = pd.read_csv(\"data/amazon.csv\")\n",
    "\n",
    "print('Número de filas:', len(data.index), '\\nNombre de columnas:', list(data))"
   ]
  },
  {
   "cell_type": "markdown",
   "metadata": {},
   "source": [
    "### Ejercicio 2\n",
    "\n",
    "Agrupad los datos cargados al ejercicio 1 por **año** y, para cada año, mostrad el número total de incendios que tuvierón lugar en todo el país.\n",
    "\n",
    "**Nota:** Al Notebook de teoria hemos visto como calcular la media de una agrupación de datos. Para resolver este ejercicio tendréis que investigar como sumar todos los valores de una columna en una agrupación. Os puede ser de utilidad la función [aggregate](https://pandas.pydata.org/pandas-docs/stable/reference/api/pandas.DataFrame.aggregate.html) de pandas, la cual nos permite aplicar diferentes funciones a una columna en un ```groupby```.\n",
    "\n",
    "**(0.5 punts)** <span style=\"font-family: Courier New; background-color: #ffcc5c; color: #000000; padding: 3px; \">EG</span>"
   ]
  },
  {
   "cell_type": "code",
   "execution_count": 1,
   "metadata": {},
   "outputs": [
    {
     "data": {
      "text/html": [
       "<div>\n",
       "<style scoped>\n",
       "    .dataframe tbody tr th:only-of-type {\n",
       "        vertical-align: middle;\n",
       "    }\n",
       "\n",
       "    .dataframe tbody tr th {\n",
       "        vertical-align: top;\n",
       "    }\n",
       "\n",
       "    .dataframe thead th {\n",
       "        text-align: right;\n",
       "    }\n",
       "</style>\n",
       "<table border=\"1\" class=\"dataframe\">\n",
       "  <thead>\n",
       "    <tr style=\"text-align: right;\">\n",
       "      <th></th>\n",
       "      <th>sum</th>\n",
       "    </tr>\n",
       "    <tr>\n",
       "      <th>year</th>\n",
       "      <th></th>\n",
       "    </tr>\n",
       "  </thead>\n",
       "  <tbody>\n",
       "    <tr>\n",
       "      <th>1998</th>\n",
       "      <td>123881</td>\n",
       "    </tr>\n",
       "    <tr>\n",
       "      <th>1999</th>\n",
       "      <td>132526</td>\n",
       "    </tr>\n",
       "    <tr>\n",
       "      <th>2000</th>\n",
       "      <td>97541</td>\n",
       "    </tr>\n",
       "    <tr>\n",
       "      <th>2001</th>\n",
       "      <td>137926</td>\n",
       "    </tr>\n",
       "    <tr>\n",
       "      <th>2002</th>\n",
       "      <td>220015</td>\n",
       "    </tr>\n",
       "    <tr>\n",
       "      <th>2003</th>\n",
       "      <td>208476</td>\n",
       "    </tr>\n",
       "    <tr>\n",
       "      <th>2004</th>\n",
       "      <td>248928</td>\n",
       "    </tr>\n",
       "    <tr>\n",
       "      <th>2005</th>\n",
       "      <td>224294</td>\n",
       "    </tr>\n",
       "    <tr>\n",
       "      <th>2006</th>\n",
       "      <td>123327</td>\n",
       "    </tr>\n",
       "    <tr>\n",
       "      <th>2007</th>\n",
       "      <td>206412</td>\n",
       "    </tr>\n",
       "    <tr>\n",
       "      <th>2008</th>\n",
       "      <td>117993</td>\n",
       "    </tr>\n",
       "    <tr>\n",
       "      <th>2009</th>\n",
       "      <td>111763</td>\n",
       "    </tr>\n",
       "    <tr>\n",
       "      <th>2010</th>\n",
       "      <td>223228</td>\n",
       "    </tr>\n",
       "    <tr>\n",
       "      <th>2011</th>\n",
       "      <td>131271</td>\n",
       "    </tr>\n",
       "    <tr>\n",
       "      <th>2012</th>\n",
       "      <td>163353</td>\n",
       "    </tr>\n",
       "    <tr>\n",
       "      <th>2013</th>\n",
       "      <td>105572</td>\n",
       "    </tr>\n",
       "    <tr>\n",
       "      <th>2014</th>\n",
       "      <td>170259</td>\n",
       "    </tr>\n",
       "    <tr>\n",
       "      <th>2015</th>\n",
       "      <td>209296</td>\n",
       "    </tr>\n",
       "    <tr>\n",
       "      <th>2016</th>\n",
       "      <td>171132</td>\n",
       "    </tr>\n",
       "    <tr>\n",
       "      <th>2017</th>\n",
       "      <td>246289</td>\n",
       "    </tr>\n",
       "  </tbody>\n",
       "</table>\n",
       "</div>"
      ],
      "text/plain": [
       "         sum\n",
       "year        \n",
       "1998  123881\n",
       "1999  132526\n",
       "2000   97541\n",
       "2001  137926\n",
       "2002  220015\n",
       "2003  208476\n",
       "2004  248928\n",
       "2005  224294\n",
       "2006  123327\n",
       "2007  206412\n",
       "2008  117993\n",
       "2009  111763\n",
       "2010  223228\n",
       "2011  131271\n",
       "2012  163353\n",
       "2013  105572\n",
       "2014  170259\n",
       "2015  209296\n",
       "2016  171132\n",
       "2017  246289"
      ]
     },
     "execution_count": 1,
     "metadata": {},
     "output_type": "execute_result"
    }
   ],
   "source": [
    "# Respuesta\n",
    "#https://stackoverflow.com/questions/39922986/pandas-group-by-and-sum\n",
    "#https://www.geeksforgeeks.org/pandas-groupby/\n",
    "#https://stackoverflow.com/questions/52757952/pandas-read-csv-doesnt-parse-comma-decimal-separator-when-using-dtype\n",
    "\n",
    "import numpy as np\n",
    "import pandas as pd\n",
    "\n",
    "#Después de hacer un poco de exploración (data.dtypes) y ver que en el \"pd.read_csv\"\n",
    "#detecta \"floats\" en la columna \"number\", añado el argumento \"thousands\"\n",
    "#para que no confunda los puntos con decimales (si no obtendríamos \"20013.971\" incendios para el año 1998)\n",
    "\n",
    "data = pd.read_csv(\"data/amazon.csv\", thousands='.')\n",
    "\n",
    "#Agrupo y sumo\n",
    "grp = data.groupby('year')\n",
    "grp['number'].agg([np.sum])"
   ]
  },
  {
   "cell_type": "markdown",
   "metadata": {},
   "source": [
    "### Ejercicio 3\n",
    "\n",
    "Mostrad los estados de Brasil donde se registraron más de _800_ incendios al mes, contando los meses de _junio_, _julio_ y _agosto_. Debéis mostrar como resultado una lista de los estados **sin repetir**.\n",
    "\n",
    "**Nota:** Al Notebook de teoria hemos visto operaciones básicas de filtrado. Para resolver este ejercicio deberéis investigar como aplicar condiciones más complejas. Para extraer una lista de valores _únicos_ de una columna de un dataframe os puede ser útil la función [unique](https://pandas.pydata.org/pandas-docs/stable/reference/api/pandas.Series.unique.html) de pandas.\n",
    " \n",
    " **(1 punt)** <span style=\"font-family: Courier New; background-color: #ffcc5c; color: #000000; padding: 3px; \">EG</span>"
   ]
  },
  {
   "cell_type": "code",
   "execution_count": 3,
   "metadata": {
    "scrolled": false
   },
   "outputs": [
    {
     "name": "stdout",
     "output_type": "stream",
     "text": [
      "Listado de estados que cumple las condiciones: \n",
      "\n",
      " ['Acre', 'Amazonas', 'Bahia', 'Goias', 'Maranhao', 'Mato Grosso', 'Minas Gerais', 'Pará', 'Paraiba', 'Piau', 'Rio', 'Rondonia', 'Santa Catarina', 'Sao Paulo', 'Tocantins']\n"
     ]
    }
   ],
   "source": [
    "# Respuesta\n",
    "#https://cmdlinetips.com/2018/01/how-to-get-unique-values-from-a-column-in-pandas-data-frame/\n",
    "#https://www.kaggle.com/suraj1709/brazil-forest-fire-analysis\n",
    "#https://datatofish.com/if-condition-in-pandas-dataframe/ \n",
    "import pandas as pd\n",
    "from pandas import Series\n",
    "\n",
    "#Cargo el dataset\n",
    "data = pd.read_csv(\"data/amazon.csv\", thousands='.')\n",
    "\n",
    "#Aplico los condicionantes\n",
    "#data.where() con pandas o data[] con numpy para ver solamente lo que nos interesa\n",
    "#PD: No entendía muy bien por qué si usaba los operadores \"and\" y \"or\" en lugar de & y | me aparecía un error....\n",
    "filtro = data.where((data['number'] > 800) & ((data['month'] == 'Junho') \n",
    "                                                | (data['month'] == 'Julho')\n",
    "                                                | (data['month'] == 'Agosto')))\n",
    "\n",
    "\n",
    "#Hago una lista con los estados que cumplen con esas condiciones sin repetir\n",
    "print('Listado de estados que cumple las condiciones: \\n\\n', filtro['state'].unique().tolist()[1:])\n",
    "\n",
    "\n",
    "#Pruebas varias:\n",
    "#Agrupo por año, estado y mes\n",
    "#grupo = filtro.groupby(by = ['year','state', 'month']).sum()\n",
    "#print(grupo)\n",
    "#data2.loc[2630:2868, \"state\"] = \"Mato Grosso 2\" } NO\n",
    "#data2.loc[4542:4780, \"state\"] = \"Rio 2\"         } HACE\n",
    "#data2.loc[4781:5019, \"state\"] = \"Rio 3\"         } FALTA\n",
    "#data2.loc[]                                     } CREO"
   ]
  },
  {
   "cell_type": "markdown",
   "metadata": {},
   "source": [
    "### Ejercicio 4\n",
    "\n",
    "Queremos buscar aquellos estados donde, durante el año _2017_, tuvierón lugar _más de 800_ incendios al mes, a lo largo de cualquier mes del año. Debéis mostrar por pantalla el **estado**, el **mes** (o los meses si la condición se cumple en varios meses) y el **nombre total de incendios** registrados en el mes correspondiente.\n",
    "\n",
    "**Nota**: Además del contenido de los Notebook de teoria, podéis utilizar lo que habéis aprendido haciendo el ejercicio 2.\n",
    "\n",
    "**(0.5 punts)** <span style=\"font-family: Courier New; background-color: #82b74b; color: #000000; padding: 3px; \">NM</span>"
   ]
  },
  {
   "cell_type": "code",
   "execution_count": 103,
   "metadata": {},
   "outputs": [
    {
     "name": "stdout",
     "output_type": "stream",
     "text": [
      "El número de registros es: 53 \n",
      "\n",
      "              state     month  number\n",
      "159           Acre    Agosto    1493\n",
      "179           Acre  Setembro    3429\n",
      "199           Acre   Outubro    1508\n",
      "698          Amapa  Novembro     858\n",
      "857       Amazonas     Julho    1975\n",
      "877       Amazonas    Agosto    6316\n",
      "897       Amazonas  Setembro    4033\n",
      "917       Amazonas   Outubro    1581\n",
      "1116         Bahia    Agosto    1018\n",
      "1136         Bahia  Setembro    1791\n",
      "1156         Bahia   Outubro    4005\n",
      "1395         Ceara   Outubro     949\n",
      "1415         Ceara  Novembro     812\n",
      "2072         Goias    Agosto    1492\n",
      "2092         Goias  Setembro    3238\n",
      "2112         Goias   Outubro    2401\n",
      "2271      Maranhao     Junho     885\n",
      "2291      Maranhao     Julho    2521\n",
      "2311      Maranhao    Agosto    3875\n",
      "2331      Maranhao  Setembro   14825\n",
      "2351      Maranhao   Outubro    6011\n",
      "2490   Mato Grosso      Maio     845\n",
      "2510   Mato Grosso     Junho    2041\n",
      "2550   Mato Grosso    Agosto    6229\n",
      "2570   Mato Grosso  Setembro   23945\n",
      "2610   Mato Grosso  Novembro     813\n",
      "2789   Mato Grosso    Agosto    1488\n",
      "2809   Mato Grosso  Setembro    2984\n",
      "3028  Minas Gerais    Agosto    2142\n",
      "3048  Minas Gerais  Setembro    4697\n",
      "3068  Minas Gerais   Outubro    3062\n",
      "3247          Pará     Julho    4985\n",
      "3267          Pará    Agosto   11962\n",
      "3287          Pará  Setembro   25004\n",
      "3307          Pará   Outubro    7628\n",
      "3327          Pará  Novembro    9079\n",
      "3725       Paraiba     Julho     891\n",
      "3745       Paraiba    Agosto     987\n",
      "3765       Paraiba  Setembro    1706\n",
      "4223          Piau    Agosto    1572\n",
      "4243          Piau  Setembro    3422\n",
      "4263          Piau   Outubro    3004\n",
      "4920           Rio     Julho     885\n",
      "4940           Rio    Agosto     819\n",
      "5179      Rondonia    Agosto    4287\n",
      "5199      Rondonia  Setembro    5638\n",
      "5876     Sao Paulo     Julho     802\n",
      "5896     Sao Paulo    Agosto     981\n",
      "5916     Sao Paulo  Setembro    2868\n",
      "6354     Tocantins     Julho    2397\n",
      "6374     Tocantins    Agosto    3536\n",
      "6394     Tocantins  Setembro   10737\n",
      "6414     Tocantins   Outubro    2969\n"
     ]
    }
   ],
   "source": [
    "# Respuesta\n",
    "#https://stackoverflow.com/questions/11285613/selecting-multiple-columns-in-a-pandas-dataframe\n",
    "import numpy as np\n",
    "import pandas as pd\n",
    "\n",
    "#Cargo el dataset (aunque no sea necesario hacerlo en todos los ejercicios)\n",
    "data = pd.read_csv(\"data/amazon.csv\", thousands='.')\n",
    "\n",
    "#Aplico las condiciones\n",
    "filtro1 = data[(data.year == 2017) & (data.number > 800)]\n",
    "\n",
    "\n",
    "#Visualizo todas las filas, de la columna 1 a la 4, sin incluirla\n",
    "sol4 = filtro1.iloc[:,1:4]\n",
    "print('El número de registros es:', len(sol4), '\\n\\n', sol4)\n",
    "\n",
    "#PD: El número de fila corresponde a dos números menos en el excel (159 debería ser 161 y así sucesivamente)\n",
    "#desconozco por qué"
   ]
  },
  {
   "cell_type": "markdown",
   "metadata": {},
   "source": [
    "### Ejercicio 5\n",
    "\n",
    "Cread una copia del dataframe original añadiendo una nueva columna que nos indicará para cada fila el nivel de riesgo de dicha fila. Definimos tres niveles de riesgo:\n",
    "\n",
    "- **high** : si se ha registrado una fila con más de 800 incendios \n",
    "- **medium** : si se ha registrado una fila con un nombre de incendios entre 400 y 800\n",
    "- **low** : si se ha registrado una fila con menos de 400 incendios\n",
    "\n",
    "Mostrad por pantalla aquellas filas que correspondan a un nivel de riesgo alto ( _high_ ).\n",
    "\n",
    "**Nota:** pandas nos ofrece principalmente tres maneras de añadir nuevas columnas a un dataframe existente. Cualquiera de las tres formas son válidas para resolver este ejercicio. Podéis buscar en Internet como añadir columnas a un dataframe de pandas, ya que la documentación presenta los tres métodos de forma separada.\n",
    "\n",
    "**(1.5 punts)** <span style=\"font-family: Courier New; background-color: #ffcc5c; color: #000000; padding: 3px; \">EG</span>"
   ]
  },
  {
   "cell_type": "code",
   "execution_count": 4,
   "metadata": {},
   "outputs": [
    {
     "name": "stdout",
     "output_type": "stream",
     "text": [
      "Tabla nueva con condición de riesgo alto: \n",
      "\n",
      "       year      state     month  number        date  risk\n",
      "145   2003       Acre    Agosto    1976  2003-01-01  high\n",
      "147   2005       Acre    Agosto    4198  2005-01-01  high\n",
      "148   2006       Acre    Agosto     839  2006-01-01  high\n",
      "149   2007       Acre    Agosto     960  2007-01-01  high\n",
      "152   2010       Acre    Agosto    1682  2010-01-01  high\n",
      "...    ...        ...       ...     ...         ...   ...\n",
      "6410  2013  Tocantins   Outubro    2155  2013-01-01  high\n",
      "6412  2015  Tocantins   Outubro    4844  2015-01-01  high\n",
      "6413  2016  Tocantins   Outubro    2032  2016-01-01  high\n",
      "6414  2017  Tocantins   Outubro    2969  2017-01-01  high\n",
      "6432  2015  Tocantins  Novembro     833  2015-01-01  high\n",
      "\n",
      "[890 rows x 6 columns]\n"
     ]
    }
   ],
   "source": [
    "# Respuesta\n",
    "#https://stackoverflow.com/questions/39109045/numpy-where-with-multiple-conditions/39111919\n",
    "\n",
    "import pandas as pd\n",
    "import numpy as np\n",
    "\n",
    "#Cargo el dataset otra vez\n",
    "data = pd.read_csv(\"data/amazon.csv\", thousands = '.')\n",
    "\n",
    "#Añado la columna añadiendo condicionantes con el método \".where\" de pandas:\n",
    "data['risk'] = np.where(data['number'] > 800, 'high', \n",
    "                    (np.where((data['number'] <= 800) & (data['number'] > 400), 'medium', 'low')))\n",
    "\n",
    "#Uso la expresión Python en lugar de \".where()\" de pandas, para que muestre solo los valores \"True\"\n",
    "print('Tabla nueva con condición de riesgo alto: \\n\\n', data[data['risk'] == 'high'])"
   ]
  },
  {
   "cell_type": "markdown",
   "metadata": {},
   "source": [
    "---"
   ]
  },
  {
   "cell_type": "markdown",
   "metadata": {},
   "source": [
    "##  Soluciones ejercicios para practicar"
   ]
  },
  {
   "cell_type": "markdown",
   "metadata": {},
   "source": [
    "### Ejercicio 1\n",
    "\n",
    "Definid una función que dadas dos matrices, devuelva el valor absoluto de la multiplicación de los determinantes ambas, es decir, dadas A y B, nuestra función devolverá `|det(A) * det(B)|`. \n",
    "\n",
    "**Nota:** Podéis consultar la documentación del módulo [linalg](https://docs.scipy.org/doc/numpy-1.15.0/reference/routines.linalg.html) para resolver este ejercicio. \n",
    "\n",
    "<span style=\"font-family: Courier New; background-color: #ffcc5c; color: #000000; padding: 3px; \">EG</span>"
   ]
  },
  {
   "cell_type": "code",
   "execution_count": null,
   "metadata": {},
   "outputs": [],
   "source": [
    "# El enunciado nos pide realizar dos operaciones: el determinante de matrices y el valor absoluto.\n",
    "# Ambas funciones se encuentran disponibles a numpy.\n",
    "from numpy.linalg import det\n",
    "from numpy import absolute\n",
    "\n",
    "# Definimos la función\n",
    "def abs_det(A, B):\n",
    "    return absolute(det(A) * det(B))"
   ]
  },
  {
   "cell_type": "markdown",
   "metadata": {},
   "source": [
    "### Ejercicio 2 \n",
    "\n",
    "Cread una matriz 10x10 que corresponda con la [matriz identidad](https://es.wikipedia.org/wiki/Matriz_identidad) usando generadores básicos de arrays. Cread una matriz identidad 10x10 (esta vez usando generadores especificos de matrices identidad) y comprobad que ambas matrices son iguales. \n",
    "\n",
    "**Consideraciones:**\n",
    "\n",
    "- La primera matriz debe crearse usando constructores básicos de arrays, como los presentados en los Notebooks de teoría.\n",
    "- La segunda matriz debe generarse utilizando el generador de matrices identidad de numpy.\n",
    "- La comparación debe devolver True si las matrices son iguales (un único True), False de no ser así.\n",
    "\n",
    "**Nota:** Podéis consultar la documentación sobre [creación de matrices](https://docs.scipy.org/doc/numpy-1.15.1/reference/routines.array-creation.html) de Numpy para resolver este ejercicio.\n",
    "\n",
    "<span style=\"font-family: Courier New; background-color: #ffcc5c; color: #000000; padding: 3px; \">EG</span>"
   ]
  },
  {
   "cell_type": "code",
   "execution_count": null,
   "metadata": {},
   "outputs": [],
   "source": [
    "import numpy as np\n",
    "\n",
    "# Podemos definir la matriz de forma manual como una lista de listas\n",
    "m0 = np.array([[1, 0, 0, 0, 0, 0, 0, 0, 0, 0,], [0, 1, 0, 0, 0, 0, 0, 0, 0, 0,], \n",
    "              [0, 0, 1, 0, 0, 0, 0, 0, 0, 0], [0, 0, 0, 1, 0, 0, 0, 0, 0, 0], \n",
    "              [0, 0, 0, 0, 1, 0, 0, 0, 0, 0], [0, 0, 0, 0, 0, 1, 0, 0, 0, 0],\n",
    "              [0, 0, 0, 0, 0, 0, 1, 0, 0, 0], [0, 0, 0, 0, 0, 0, 0, 1, 0, 0],\n",
    "              [0, 0, 0, 0, 0, 0, 0, 0, 1, 0], [0, 0, 0, 0, 0, 0, 0, 0, 0, 1]])\n",
    "\n",
    "# O empezando por una 10x10 con todos los elementos iguales a 0 y asignar 1s a la diagonal\n",
    "# recorriendo la matriz por filas y columnas\n",
    "m1 = np.zeros((10,10), dtype=int)\n",
    "for i, r in enumerate(m1):\n",
    "    r[i] = 1\n",
    "\n",
    "# Por otro lado, definimos la identidad 10x10 utilizando el constructor “built-in\"\n",
    "m2 = np.identity(10, dtype=int)\n",
    "\n",
    "# Y realizamos la comparación. Para hacerlo podemos utilizar el método array_equal de numpy \n",
    "# que nos compara si dos arrays son iguales\n",
    "print(np.array_equal(m0, m2))\n",
    "print(np.array_equal(m1, m2))\n",
    "\n",
    "# También podemos comprobar que la comparación falla si modificamos cualquier valor de la matriz\n",
    "m0[1, 2] = 1\n",
    "print(np.array_equal(m0, m2))"
   ]
  },
  {
   "cell_type": "markdown",
   "metadata": {},
   "source": [
    "### Ejercicio 3\n",
    "\n",
    "Representad en un único gráfico las funciones f1 y f2 definidas más abajo, evaluadas en el intervalo [0, 7] y con paso (resolución) 0.1. <span style=\"font-family: Courier New; background-color: #82b74b; color: #000000; padding: 3px; \">NM</span>"
   ]
  },
  {
   "cell_type": "code",
   "execution_count": null,
   "metadata": {},
   "outputs": [],
   "source": [
    "import numpy as np\n",
    "\n",
    "def f1(x):\n",
    "    return np.power(x, 2)\n",
    "\n",
    "def f2(x):\n",
    "    return np.power(2,x)"
   ]
  },
  {
   "cell_type": "code",
   "execution_count": null,
   "metadata": {},
   "outputs": [],
   "source": [
    "%matplotlib inline\n",
    "import matplotlib.pyplot as plt\n",
    "\n",
    "# El enunciado nos indica que el punto inicial es 0, el final es 7 y la resolució es 0.1\n",
    "start = 0\n",
    "end = 7\n",
    "res = 0.1\n",
    "\n",
    "\n",
    "# Definimos los arrays de valores con arange. Tenemo que sumar 0.1 al final dado que arange\n",
    "# funciona de forma análoga a range [inicio, final)\n",
    "\n",
    "# Ambas gráficas comparten el mismo eje x\n",
    "x = np.arange(start, end+res, res)\n",
    "\n",
    "# Y los arrays a y b corresponden a los ejes y para f1 y f2 respectivamente. Para calcularlos\n",
    "# simplemente evaluamos las dos funciones con los valores de x\n",
    "a = [f1(val) for val in x]\n",
    "b = [f2(val) for val in x]\n",
    "\n",
    "plt.plot(x, a)\n",
    "plt.plot(x, b)\n",
    "\n",
    "plt.legend([\"f1\", \"f2\"])\n",
    "plt.show()"
   ]
  },
  {
   "cell_type": "code",
   "execution_count": null,
   "metadata": {},
   "outputs": [],
   "source": []
  }
 ],
 "metadata": {
  "kernelspec": {
   "display_name": "Python 3",
   "language": "python",
   "name": "python3"
  },
  "language_info": {
   "codemirror_mode": {
    "name": "ipython",
    "version": 3
   },
   "file_extension": ".py",
   "mimetype": "text/x-python",
   "name": "python",
   "nbconvert_exporter": "python",
   "pygments_lexer": "ipython3",
   "version": "3.6.8"
  }
 },
 "nbformat": 4,
 "nbformat_minor": 1
}
