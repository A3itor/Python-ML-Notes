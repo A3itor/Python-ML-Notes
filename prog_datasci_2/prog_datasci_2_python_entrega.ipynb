{
 "cells": [
  {
   "cell_type": "markdown",
   "metadata": {},
   "source": [
    "Programación para *Data Science*\n",
    "============================\n",
    "\n",
    "Unidad 2: Breve introducción a la programación en Python\n",
    "-----------------------------------------------------\n",
    "\n",
    "# Introducción\n",
    "\n",
    "En este Notebook encontraréis dos conjuntos de ejercicios: un primer conjunto de **ejercicios para practicar** y un segundo conjunto de **actividades evaluables** como PEC de la asignatura.\n",
    "\n",
    "En cuanto al conjunto de ejercicios para practicar, éstos no puntúan para la PEC, pero os recomendamos que los intentéis resolver como parte del proceso de aprendizaje. Encontraréis ejemplos de posibles soluciones a los ejercicios al propio notebook, pero es importante que intentéis resolverlos vosotros antes de consultar las soluciones. Las soluciones os permitirán validar vuestras respuestas, así como ver alternativas de resolución de las actividades. También os animamos a preguntar cualquier duda que surja sobre la resolución de los **ejercicios para practicar** en el foro del aula.\n",
    "\n",
    "En relación a las actividades evaluables, veréis que cada una de ellas tiene asociada una puntuación que indica el peso que tiene la actividad sobre la nota de la PEC. Adicionalmente, hay un ejercicio opcional, que no tiene puntuación dentro de la PEC, pero que se valora al final del semestre de cara a conceder las matrículas de honor y redondear las notas finales. Podéis sacar la máxima nota de la PEC sin necesidad de hacer este ejercicio! El objetivo de este ejercicio es que sirva como pequeño reto para los estudiantes que quieran profundizar en el contenido de la asignatura.\n",
    "\n",
    "Además, veréis que todas las actividades tienen una etiqueta que indica los recursos necesarios para llevarla a cabo. Hay tres posibles etiquetas:\n",
    "\n",
    "* <span style=\"font-family: Courier New; background-color: #82b74b; color: #000000; padding: 3px; \">NM</span> **Sólo materiales**: las herramientas necesarias para realizar la actividad se pueden encontrar en los materiales de la asignatura. \n",
    "\n",
    "* <span style=\"font-family: Courier New; background-color: #ffcc5c; color: #000000; padding: 3px; \">EG</span> **Consulta externa guiada**: la actividad puede requerir hacer uso de herramientas que no se encuentran en los materiales de la asignatura, pero el enunciado contiene indicaciones de dónde o cómo encontrar la información adicional necesaria para resolver la actividad.\n",
    "\n",
    "* <span style=\"font-family: Courier New; background-color: #f2ae72; color: #000000; padding: 3px; \">EI</span> **Consulta externa independente**: la actividad puede requerir hacer uso de herramientas que no se encuentran en los materiales de la asignatura, y el enunciado puede no incluir la descripción de dónde o cómo encontrar esta información adicional. Será necesario que el estudiante busque esta información utilizando los recursos que se han explicado en la asignatura.\n",
    "\n",
    "Es importante notar que estas etiquetas no indican el nivel de dificultad del ejercicio, sino únicamente la necesidad de consulta de documentación externa para su resolución. Además, recordad que las **etiquetas son informativas**, pero podréis consultar referencias externas en cualquier momento (aunque no se indique explícitamente) o puede ser que podáis hacer una actividad sin consultar ningún tipo de documentación. Por ejemplo, para resolver una actividad que sólo requiera los materiales de la asignatura, puedéis consultar referencias externas si queréis, ya sea tanto para ayudaros en la resolución como para ampliar el conocimiento!\n",
    "\n",
    "En cuanto a la consulta de documentación externa en la resolución de los ejercicios, recordad **citar siempre la bibliografía utilizada** para resolver cada actividad.\n"
   ]
  },
  {
   "cell_type": "markdown",
   "metadata": {},
   "source": [
    "---"
   ]
  },
  {
   "cell_type": "markdown",
   "metadata": {},
   "source": [
    "## Ejercicios para practicar\n",
    "\n",
    "**Los siguientes 3 ejercicios no puntúan para la PEC**, pero os recomendamos que los intentéis resolver antes de pasar a los ejercicios propios de la PAC. También encontraréis las soluciones a estos ejercicios al final del Notebook."
   ]
  },
  {
   "cell_type": "markdown",
   "metadata": {},
   "source": [
    "### Ejercicio 1\n",
    "\n",
    "Escribir un programa que defina una lista los valores con los nombres de los días de la semana. Haz que muestre el primero y\n",
    "el penúltimo día de la semana. <span style=\"font-family: Courier New; background-color: #82b74b; color: #000000; padding: 3px; \">NM</span>"
   ]
  },
  {
   "cell_type": "code",
   "execution_count": 9,
   "metadata": {},
   "outputs": [
    {
     "name": "stdout",
     "output_type": "stream",
     "text": [
      "Lunes Sábado\n"
     ]
    }
   ],
   "source": [
    "# Respuesta\n",
    "semana = ['Lunes', 'Martes', 'Miercoles', 'Jueves', 'Viernes','Sábado', 'Domingo']\n",
    "print(semana[0], semana[-2])"
   ]
  },
  {
   "cell_type": "markdown",
   "metadata": {},
   "source": [
    "### Ejercicio 2\n",
    "\n",
    "Escribir una expresión en Python que muestre la siguiente salida por pantalla:"
   ]
  },
  {
   "cell_type": "raw",
   "metadata": {},
   "source": [
    "Hello\n",
    "\n",
    "    Python"
   ]
  },
  {
   "cell_type": "markdown",
   "metadata": {},
   "source": [
    "(Tened en cuenta que hay un salto de línea entre las dos palabras y que la palabra \"Python\" está tabulada hacia la derecha) <span style=\"font-family: Courier New; background-color: #ffcc5c; color: #000000; padding: 3px; \">EG</span>\n",
    "\n",
    "**Nota**: En el notebook de teoría hemos visto cómo crear cadenas de caracteres. Para hacer la actividad, tendréis que investigar cómo incluir saltos de línea y tabulaciones en estas cadenas!"
   ]
  },
  {
   "cell_type": "code",
   "execution_count": 15,
   "metadata": {},
   "outputs": [
    {
     "name": "stdout",
     "output_type": "stream",
     "text": [
      "Hello\n",
      "    Python\n"
     ]
    }
   ],
   "source": [
    "# Respuesta\n",
    "print(\"\"\"Hello\n",
    "    Python\"\"\")"
   ]
  },
  {
   "cell_type": "markdown",
   "metadata": {},
   "source": [
    "### Ejercicio 3\n",
    "\n",
    "A partir de las siguientes listas\n",
    "\n",
    "```\n",
    "l_1 = [Lunes, Martes, Miércoles, Jueves, Viernes, Sábado, Domingo]\n",
    "l_2 = [1, 2, 3, 4, 5, 6, 7, 8]\n",
    "```\n",
    "\n",
    "Escribe una expresión que devuelva:\n",
    "\n",
    "1. El último elemento de la primera lista\n",
    "2. Una nueva lista con el primer elemento de cada una de las listas\n",
    "3. Una nueva lista con los tres primeros elementos de la segunda lista\n",
    "4. Una cadena de caracteres con el valor \"Miércoles 8\"\n",
    "\n",
    "<span style=\"font-family: Courier New; background-color: #82b74b; color: #000000; padding: 3px; \">NM</span>"
   ]
  },
  {
   "cell_type": "code",
   "execution_count": 26,
   "metadata": {},
   "outputs": [
    {
     "name": "stdout",
     "output_type": "stream",
     "text": [
      "Domingo\n",
      "['Lunes', 1]\n",
      "[[1, 2, 3]]\n",
      "Miércoles 8\n"
     ]
    }
   ],
   "source": [
    "l_1 = ['Lunes', 'Martes', 'Miércoles', 'Jueves', 'Viernes', 'Sábado', 'Domingo']\n",
    "l_2 = [1, 2, 3, 4, 5, 6, 7, 8]\n",
    "\n",
    "# Respuesta\n",
    "print(l_1[-1])\n",
    "l_3 = [l_1[0], l_2[0]]\n",
    "print(l_3)\n",
    "l_4 = [l_2[:3]]\n",
    "print(l_4)\n",
    "print(l_1[2]+ \" \" + str(l_2[-1]))"
   ]
  },
  {
   "cell_type": "markdown",
   "metadata": {},
   "source": [
    "---"
   ]
  },
  {
   "cell_type": "markdown",
   "metadata": {},
   "source": [
    "## Ejercicios y preguntas teóricas para la PAC\n",
    "\n",
    "A continuación, los **ejercicios y preguntas teóricas que deberéis completar en esta PAC** y que forman parte de la evaluación de esta unidad.\n",
    "\n",
    "En el siguiente enlace podréis encontrar la documentación oficial de *string functions* que puede\n",
    "ser de ayuda para completar los ejercicios:\n",
    "<https://docs.python.org/2/library/string.html>."
   ]
  },
  {
   "cell_type": "markdown",
   "metadata": {},
   "source": [
    "### Pregunta 1 \n",
    "\n",
    "¿Cuál es el valor final de a, b y c (atención a los tipos de número decimal y entero)? **(1 punto)** <span style=\"font-family: Courier New; background-color: #82b74b; color: #000000; padding: 2px; \">NM</span>\n",
    "\n",
    "a = 5 / 11\n",
    "\n",
    "b = 6 / 2.\n",
    "\n",
    "c, a = b // 2, b + 1"
   ]
  },
  {
   "cell_type": "markdown",
   "metadata": {},
   "source": [
    "**Respuesta**"
   ]
  },
  {
   "cell_type": "markdown",
   "metadata": {},
   "source": [
    "a = 4.0\n",
    "b = 3.0\n",
    "c = 1.0 "
   ]
  },
  {
   "cell_type": "markdown",
   "metadata": {},
   "source": [
    "### Ejercicio 1\n",
    "\n",
    "Proporciona una única expresión que asigne el valor `7.5` a la variable `a_number`, el valor `[42]` a la variable `a_list` y el valor `\"hello world\"` a la variable `a_string`. Es necesario que proporciones una única expresión que realice las tres asignaciones. **(1 punto)** <span style=\"font-family: Courier New; background-color: #82b74b; color: #000000; padding: 2px; \">NM</span>"
   ]
  },
  {
   "cell_type": "code",
   "execution_count": 34,
   "metadata": {},
   "outputs": [],
   "source": [
    "# Hacemos una tupple con un float, un integer y una string. No hacía falta usar float, int y str\n",
    "a_number, a_list, a_string = float(7.5), [42], 'hello world'"
   ]
  },
  {
   "cell_type": "markdown",
   "metadata": {},
   "source": [
    "### Ejercicio 2\n",
    "\n",
    "Qué expresión en Python necesitamos para conseguir el _string_\n",
    "\"Learning Python\" utilizando sólo las variables `str1` y` str2` definidas? **(1 punto)** <span style=\"font-family: Courier New; background-color: #82b74b; color: #000000; padding: 2px; \">NM</span>"
   ]
  },
  {
   "cell_type": "code",
   "execution_count": 36,
   "metadata": {
    "attributes": {
     "classes": [
      "sourceCode"
     ],
     "id": ""
    }
   },
   "outputs": [],
   "source": [
    "str1 = \"I love Python, it's great!\"\n",
    "str2 = \"Learning\""
   ]
  },
  {
   "cell_type": "code",
   "execution_count": 39,
   "metadata": {},
   "outputs": [
    {
     "name": "stdout",
     "output_type": "stream",
     "text": [
      "Learning Python\n"
     ]
    }
   ],
   "source": [
    "# Concateno las dos strings y añado un espacio en medio \n",
    "print(str2 + \" \" + str1[7:13])"
   ]
  },
  {
   "cell_type": "markdown",
   "metadata": {},
   "source": [
    "### Ejercicio 3\n",
    "\n",
    "Escribir un programa que asigne tres valores reales aleatorios a tres variables con nombre `a`,` b` y ` c`. Utiliza las variables definidas anteriormente para evaluar la siguiente expresión matemática:\n",
    "\n",
    "$\\frac{-b + \\sqrt {b^2-4ac}}{2a}$\n",
    "\n",
    "**(1 punto)** <span style=\"font-family: Courier New; background-color: #ffcc5c; color: #000000; padding: 3px; \">EG</span>\n",
    "\n",
    "**Nota**: En el notebook de teoría hemos visto como sumar, restar, multiplicar y dividir números reales. Para hacer la actividad, tendréis que investigar cómo calcular potencias y raíces cuadradas en Python! Necesitaréis utilizar la librería [`Random`](https://docs.python.org/3/library/random.html?highlight=random#module-random) para la generación de números aleatorios."
   ]
  },
  {
   "cell_type": "code",
   "execution_count": 75,
   "metadata": {
    "attributes": {
     "classes": [
      "sourceCode"
     ],
     "id": ""
    }
   },
   "outputs": [
    {
     "name": "stdout",
     "output_type": "stream",
     "text": [
      "a = 4, b = 21, c = 8\n",
      "Solución: -0.413524\n"
     ]
    }
   ],
   "source": [
    "# Me aseguro de que la raíz sea siempre positiva fijando unos rangos de int concretos para a,b,c\n",
    "import numpy as np\n",
    "\n",
    "a, b, c = np.random.randint(1,10), np.random.randint(21,30), np.random.randint(1,10)\n",
    "print(\"a = %d, b = %d, c = %d\" % (a,b,c))\n",
    "sol = (-b + np.sqrt((b**2) - 4 * a * c)) / (2 * a)\n",
    "print(\"Solución: %f\" % (sol))\n"
   ]
  },
  {
   "cell_type": "markdown",
   "metadata": {},
   "source": [
    "### Ejercicio 4\n",
    "\n",
    "Escribir un programa que calcule el diámetro de una esfera de radio 5. **(1 punto)** <span style=\"font-family: Courier New; background-color: #82b74b; color: #000000; padding: 2px; \">NM</span>"
   ]
  },
  {
   "cell_type": "code",
   "execution_count": 78,
   "metadata": {
    "attributes": {
     "classes": [
      "sourceCode"
     ],
     "id": ""
    }
   },
   "outputs": [
    {
     "name": "stdout",
     "output_type": "stream",
     "text": [
      "Diámetro = 10.00\n"
     ]
    }
   ],
   "source": [
    "# Diámetro = 2 x radio\n",
    "r = 5\n",
    "d = 2 * r\n",
    "print(\"Diámetro = %4.2f\" % d)\n",
    "\n"
   ]
  },
  {
   "cell_type": "markdown",
   "metadata": {},
   "source": [
    "### Ejercicio 5\n",
    "\n",
    "Escribir un programa que defina una lista con los 10 primeros números primos. Mostrad por pantalla los tres últimos números de la lista. **(1 punto)** <span style=\"font-family: Courier New; background-color: #82b74b; color: #000000; padding: 2px; \">NM</span>"
   ]
  },
  {
   "cell_type": "code",
   "execution_count": 179,
   "metadata": {
    "attributes": {
     "classes": [
      "sourceCode"
     ],
     "id": ""
    }
   },
   "outputs": [
    {
     "name": "stdout",
     "output_type": "stream",
     "text": [
      "Los 3 último primos son: [19, 23, 29]\n"
     ]
    }
   ],
   "source": [
    "# Respuesta https://hackernoon.com/prime-numbers-using-python-824ff4b3ea19\n",
    "primos = []\n",
    "for candidato in range(2, 50):#sin contar el segundo número: \n",
    "    es_primo = True\n",
    "    for num in range(2, candidato):\n",
    "        if candidato % num == 0:\n",
    "            es_primo = False\n",
    "            break # cuando el candidato es un numero muy elevado prefiero hacer break en cuanto se cumpla la condicion\n",
    "                  # de es_primo = False  y volver al loop principal con un candidato a primo nuevo\n",
    "    if es_primo:\n",
    "        primos.append(candidato)\n",
    "    if len(primos) == 10:\n",
    "        break\n",
    "print(\"Los 3 últimos primos son: \" + str(primos[-3:]))\n",
    "        "
   ]
  },
  {
   "cell_type": "markdown",
   "metadata": {},
   "source": [
    "### Ejercicio 6\n",
    "\n",
    "Escribir un programa en el que se definan los precios de una frutería utilizando un _diccionario_. Deberéis incluir, como mínimo, 5 tipos de fruta diferentes. Por cada fruta, deberá indicarse el precio por kilo.\n",
    "\n",
    "Por ejemplo: Fresas de Huelva con precio 5.9, Fresas del Maresme con precio 10, Manzanas con precio 3.5, etc.\n",
    "\n",
    "Muestra el precio por kilo de cualquiera de las frutas que has incluido en el diccionario, utilizando cualquiera de los métodos de acceso a elementos de un diccionario. **(1 punto)** <span style=\"font-family: Courier New; background-color: #82b74b; color: #000000; padding: 2px; \">NM</span>"
   ]
  },
  {
   "cell_type": "code",
   "execution_count": 91,
   "metadata": {},
   "outputs": [
    {
     "name": "stdout",
     "output_type": "stream",
     "text": [
      "El precio por Kg de la Sandía es €2.8 \n"
     ]
    }
   ],
   "source": [
    "# Creo diccionario y hago print \n",
    "frutas = {'Manzana': 2.1, 'Melon': 3.4, 'Sandía': 2.8, 'Melocotón': 1.5, 'Fresa': 4.1}\n",
    "print(\"El precio por Kg de la Sandía es €%2.1f \" %(frutas['Sandía']))"
   ]
  },
  {
   "cell_type": "markdown",
   "metadata": {},
   "source": [
    "### Ejercicio 7\n",
    "\n",
    "Escribir un código que muestre por pantalla el precio de todas las frutas incluidas en el diccionario creado en el ejercicio anterior (accediendo al diccionario que acabas de definir). **(1 punto)** <span style=\"font-family: Courier New; background-color: #82b74b; color: #000000; padding: 2px; \">NM</span>\n",
    "\n",
    "El formato de la cadena de caracteres que muestra el precio debe ser el siguiente:\n",
    "\n",
    "```Las frutas tienen un precio de: {precios} euros```\n",
    "\n",
    "Siguiendo con el ejemplo del ejercicio anterior, habría que mostrar por pantalla:\n",
    "\n",
    "```Las frutas tienen un precio de: [5.9, 10, 3.5] euros```\n",
    "\n",
    "**Nota**: recordad que los diccionarios no tienen orden. Por lo tanto, otras ordenaciones de los precios también serían soluciones válidas, por ejemplo:\n",
    "\n",
    "```Las frutas tienen un precio de: [10, 5.9, 3.5] euros```"
   ]
  },
  {
   "cell_type": "code",
   "execution_count": 121,
   "metadata": {},
   "outputs": [
    {
     "name": "stdout",
     "output_type": "stream",
     "text": [
      "Las frutas tienen un precio de: [2.1, 3.4, 2.8, 1.5, 4.1] euros\n"
     ]
    }
   ],
   "source": [
    "# Hago una lista del diccionario y luego la concateno como string en el print\n",
    "list = []\n",
    "for precio in frutas.values():\n",
    "    list.append(precio)\n",
    "    \n",
    "print(\"Las frutas tienen un precio de: \" + str(list[:]) + ' euros')"
   ]
  },
  {
   "cell_type": "markdown",
   "metadata": {},
   "source": [
    "### Ejercicio 8\n",
    "\n",
    "Ordenad la siguiente lista de cadenas de caracteres: **(1 punto)** <span style=\"font-family: Courier New; background-color: #ffcc5c; color: #000000; padding: 3px; \">EG</span>\n",
    "\n",
    "1. Invirtiendo el orden original\n",
    "2. En orden alfabético inverso\n",
    "\n",
    "**Nota**: Puedes consultar la documentación oficial de la función [`sorted`](https://docs.python.org/3/library/functions.html#sorted) para ver qué parámetros puedes utilizar para resolver la segunda parte de la actividad.\n",
    "\n"
   ]
  },
  {
   "cell_type": "code",
   "execution_count": 132,
   "metadata": {},
   "outputs": [],
   "source": [
    "st_chars = [\"Benjamin Sisko\", \"Kira Nerys\", \"Odo\", \"Quark\", \"Jadzia Dax\"]"
   ]
  },
  {
   "cell_type": "code",
   "execution_count": 133,
   "metadata": {},
   "outputs": [
    {
     "name": "stdout",
     "output_type": "stream",
     "text": [
      "['Jadzia Dax', 'Quark', 'Odo', 'Kira Nerys', 'Benjamin Sisko']\n"
     ]
    }
   ],
   "source": [
    "# Respuesta 8.1 https://www.programiz.com/python-programming/methods/list/reverse\n",
    "st_chars.reverse()\n",
    "print(st_chars)"
   ]
  },
  {
   "cell_type": "code",
   "execution_count": 134,
   "metadata": {},
   "outputs": [
    {
     "name": "stdout",
     "output_type": "stream",
     "text": [
      "['Quark', 'Odo', 'Kira Nerys', 'Jadzia Dax', 'Benjamin Sisko']\n"
     ]
    }
   ],
   "source": [
    "# Respuesta 8.2 https://docs.python.org/3/howto/sorting.html\n",
    "st_chars.sort(reverse = True)\n",
    "print(st_chars)"
   ]
  },
  {
   "cell_type": "markdown",
   "metadata": {},
   "source": [
    "### Ejercicio 9\n",
    "\n",
    "A partir de la siguiente lista,\n",
    "\n",
    "```a_list = [42, 7.5,\" Answer to the Ultimate Question \",\" Dave \", 7.5]```\n",
    "\n",
    "proporcionad expresiones que devuelvan:\n",
    "\n",
    "1. El número de veces que aparece el elemento 7.5 en la lista.\n",
    "2. La posición de la primera aparición del valor 7.5\n",
    "3. La misma lista sin el último elemento\n",
    "\n",
    "**Nota**: En el notebook de teoría hemos visto qué son las listas y algunas operaciones sobre ellas. Para hacer la actividad, necesitaréis investigar algunas operaciones adicionales que podemos realizar sobre listas. Para ello podéis consultar la documentación oficial de Python sobre listas ([intro](https://docs.python.org/3/tutorial/introduction.html#lists) y [more on lists](https://docs.python.org/3/tutorial/datastructures.html#more-on-lists)).\n",
    "\n",
    "**(1 punto)** <span style=\"font-family: Courier New; background-color: #ffcc5c; color: #000000; padding: 3px; \">EG</span>"
   ]
  },
  {
   "cell_type": "code",
   "execution_count": 157,
   "metadata": {},
   "outputs": [
    {
     "name": "stdout",
     "output_type": "stream",
     "text": [
      "Elemento 7.5 aparece 2 veces\n",
      "Primera aparición tiene lugar en la posición 2\n",
      "La nueva lista es:[42, 7.5, 'Answer to the Ultimate Question', 'Dave']\n"
     ]
    }
   ],
   "source": [
    "a_list = [42, 7.5, \"Answer to the Ultimate Question\", \"Dave\", 7.5]\n",
    "\n",
    "# Respuesta http://book.pythontips.com/en/latest/enumerate.html   He indexado la posicion 1 a la 0\n",
    "\n",
    "position = []\n",
    "counts = 0\n",
    "for p,v in enumerate(a_list, 1):\n",
    "    if v == 7.5:\n",
    "        counts += 1\n",
    "        position.append(p)\n",
    "        \n",
    "print(\"Elemento 7.5 aparece %d veces\" % counts)\n",
    "print(\"Primera aparición tiene lugar en la posición \" + str(position[0]))\n",
    "print(\"La nueva lista es:\" + str(a_list[0:-1]))"
   ]
  },
  {
   "cell_type": "markdown",
   "metadata": {},
   "source": [
    "### Ejercicio Opcional\n",
    "\n",
    "Escribir un programa que genere una lista de números aleatorios y calcule el producto de todos los números de la lista. Los números de la lista deberán cumplir la siguiente condición: deben ser números impares entre 0 y 100. Además, el programa tendrá que preguntar al usuario cuántos elementos debe tener la lista (el usuario introducirá el número de elementos usando el teclado) y mostrar un mensaje de error si el usuario pide generar una lista de más de 50 elementos. Haz que el programa muestre la lista generada y el producto de sus elementos. <span style=\"font-family: Courier New; background-color: #f2ae72; color: #000000; padding: 3px; \">EI</span>"
   ]
  },
  {
   "cell_type": "code",
   "execution_count": 1,
   "metadata": {},
   "outputs": [
    {
     "name": "stdout",
     "output_type": "stream",
     "text": [
      "Enter length of list:4\n",
      "La lista es: [14, 20, 14, 12]\n",
      "El resultado es: 47040\n"
     ]
    }
   ],
   "source": [
    "# Respuesta #https://www.geeksforgeeks.org/python-multiply-numbers-list-3-different-ways/\n",
    "import numpy as np\n",
    "import random\n",
    "length_list = input(\"Enter length of list:\")\n",
    "length_list = int(length_list)\n",
    "if length_list > 50:\n",
    "    print(\"It must have less than 50 elements!!\")\n",
    "    quit()\n",
    "    \n",
    "lst = [random.randint(0,10)*2 for i in range (length_list)]\n",
    "resultado = 1\n",
    "for num in lst: \n",
    "    resultado = resultado * num \n",
    "print(\"La lista es: \" + str(lst))\n",
    "print(\"El resultado es: \" + str (resultado))"
   ]
  },
  {
   "cell_type": "markdown",
   "metadata": {},
   "source": [
    "---\n",
    "\n",
    "## Soluciones de Ejercicios para practicar"
   ]
  },
  {
   "cell_type": "markdown",
   "metadata": {},
   "source": [
    "### Ejercicio 1\n",
    "\n",
    "La forma más fácil de definir un array en Python es utilizando [ ]:"
   ]
  },
  {
   "cell_type": "code",
   "execution_count": 8,
   "metadata": {},
   "outputs": [],
   "source": [
    "dias = ['Lunes', 'Martes', 'Miércoles', 'Jueves', 'Viernes', 'Sábado', 'Domingo']"
   ]
  },
  {
   "cell_type": "markdown",
   "metadata": {},
   "source": [
    "Para acceder a los elementos de un array utilizaremos el mismo operador [ ], pero especificaremos la posición o índice del elemento al que queremos acceder. Debemos tener en cuenta que en Python, el primer elemento de una lista tiene índice 0."
   ]
  },
  {
   "cell_type": "code",
   "execution_count": 10,
   "metadata": {},
   "outputs": [
    {
     "name": "stdout",
     "output_type": "stream",
     "text": [
      "Lunes\n",
      "Sábado\n"
     ]
    }
   ],
   "source": [
    "# Primer día de la setmana\n",
    "print (dias[0])\n",
    "\n",
    "# Penúltimo día de la setmana \n",
    "print (dias[-2])"
   ]
  },
  {
   "cell_type": "markdown",
   "metadata": {},
   "source": [
    "Python nos permite utilizar un índice negativo que contaría desde el final del array hacia el principio."
   ]
  },
  {
   "cell_type": "markdown",
   "metadata": {},
   "source": [
    "### Ejercicio 2\n",
    "\n",
    "Hay diferentes maneras de conseguir el mismo resultado y después veremos algunas de ellas.\n",
    "\n",
    "La primera opción, y quizás la más simple, sería utilizar las triples comillas dobles ( \"\"\"  \"\"\"). En Python, las triples comillas dobles se interpretan de forma literal y cualquier carácter que incluya nuestra cadena será renderizado tal y como aparece en la cadena. Esto nos puede resultar útil si por ejemplo nuestra cadena incluye comillas simples y comillas dobles. Vemos el código:"
   ]
  },
  {
   "cell_type": "code",
   "execution_count": 11,
   "metadata": {},
   "outputs": [
    {
     "name": "stdout",
     "output_type": "stream",
     "text": [
      "Hello\n",
      "\n",
      "    Python\n"
     ]
    }
   ],
   "source": [
    "print(\"\"\"Hello\n",
    "\n",
    "    Python\"\"\")"
   ]
  },
  {
   "cell_type": "markdown",
   "metadata": {},
   "source": [
    "La segunda opción incluye el uso de caracteres especiales como \"\\ n\" y \"\\ t\". El primero genera un salto de línea en la salida por pantalla, mientras que el segundo genera un tabulado (TAB). Por lo tanto, nuestro código quedaría de la siguiente manera:"
   ]
  },
  {
   "cell_type": "code",
   "execution_count": 13,
   "metadata": {},
   "outputs": [
    {
     "name": "stdout",
     "output_type": "stream",
     "text": [
      "Hello\n",
      "\n",
      "\tPython\n"
     ]
    }
   ],
   "source": [
    "print(\"Hello\\n\\n\\tPython\")"
   ]
  },
  {
   "cell_type": "markdown",
   "metadata": {},
   "source": [
    "En este caso, podemos ver que la indentación de la palabra \"Python\" es superior que en el caso anterior. Esto es debido a que, por defecto, el carácter \\t genera 8 espacios en blanco para \"simular\" la tabulación.\n",
    "\n",
    "Alternativamente, podemos utilizar el siguiente código (podemos poner nosotros mismos los espacios en blanco al principio de la línea):"
   ]
  },
  {
   "cell_type": "code",
   "execution_count": 14,
   "metadata": {},
   "outputs": [
    {
     "name": "stdout",
     "output_type": "stream",
     "text": [
      "Hello\n",
      "\n",
      "    Python\n"
     ]
    }
   ],
   "source": [
    "print(\"Hello\\n\\n    Python\")"
   ]
  },
  {
   "cell_type": "markdown",
   "metadata": {},
   "source": [
    "### Ejercicio 3"
   ]
  },
  {
   "cell_type": "code",
   "execution_count": 15,
   "metadata": {},
   "outputs": [],
   "source": [
    "l_1 = ['Lunes', 'Martes', 'Miércoles', 'Jueves', 'Viernes', 'Sábado', 'Domingo']\n",
    "l_2 = [1, 2, 3, 4, 5, 6, 7, 8]"
   ]
  },
  {
   "cell_type": "code",
   "execution_count": 16,
   "metadata": {},
   "outputs": [
    {
     "name": "stdout",
     "output_type": "stream",
     "text": [
      "Domingo\n"
     ]
    }
   ],
   "source": [
    "# 1. El último elemento de la primera lista\n",
    "print(l_1[-1])"
   ]
  },
  {
   "cell_type": "markdown",
   "metadata": {},
   "source": [
    "Utilizamos un índice negativo para indicar que queremos la última posición."
   ]
  },
  {
   "cell_type": "code",
   "execution_count": 17,
   "metadata": {},
   "outputs": [
    {
     "name": "stdout",
     "output_type": "stream",
     "text": [
      "['Lunes', 1]\n"
     ]
    }
   ],
   "source": [
    "# 2. Una nueva lista con el primer elemento de cada una de las listas\n",
    "print([l_1[0], l_2[0]])"
   ]
  },
  {
   "cell_type": "markdown",
   "metadata": {},
   "source": [
    "Creamos una nueva lista utilizando `[` y `]`. Dentro de la lista ponemos los elementos indicados, accediendo a partir de su índice."
   ]
  },
  {
   "cell_type": "code",
   "execution_count": 18,
   "metadata": {},
   "outputs": [
    {
     "name": "stdout",
     "output_type": "stream",
     "text": [
      "[1, 2, 3]\n",
      "[1, 2, 3]\n"
     ]
    }
   ],
   "source": [
    "# 3. Una nueva lista con los tres primeros elementos de la segunda lista\n",
    "print(l_2[0:3])\n",
    "\n",
    "# o equivalentmente:\n",
    "print(l_2[:3])"
   ]
  },
  {
   "cell_type": "markdown",
   "metadata": {},
   "source": [
    "Indicamos que queremos los tres primeros elementos, especificando el rango `0: 3`. El cero se puede omitir, obteniendo la expresión `[: 3]` que también es válida para recuperar los mismos elementos."
   ]
  },
  {
   "cell_type": "code",
   "execution_count": 19,
   "metadata": {},
   "outputs": [
    {
     "name": "stdout",
     "output_type": "stream",
     "text": [
      "Miércoles 8\n"
     ]
    }
   ],
   "source": [
    "# 4. Una cadena de caracteres con el valor \"Miércoles 8\"\n",
    "print(l_1[2] + \" \" + str(l_2[-1]))"
   ]
  },
  {
   "cell_type": "markdown",
   "metadata": {},
   "source": [
    "Creamos la cadena concatenando el tercer elemento de la primera lista, un espacio, y el último elemento de la segunda lista."
   ]
  }
 ],
 "metadata": {
  "kernelspec": {
   "display_name": "Python 3",
   "language": "python",
   "name": "python3"
  },
  "language_info": {
   "codemirror_mode": {
    "name": "ipython",
    "version": 3
   },
   "file_extension": ".py",
   "mimetype": "text/x-python",
   "name": "python",
   "nbconvert_exporter": "python",
   "pygments_lexer": "ipython3",
   "version": "3.6.8"
  }
 },
 "nbformat": 4,
 "nbformat_minor": 1
}
