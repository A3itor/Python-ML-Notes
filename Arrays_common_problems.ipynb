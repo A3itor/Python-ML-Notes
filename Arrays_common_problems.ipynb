{
 "cells": [
  {
   "cell_type": "code",
   "execution_count": 3,
   "metadata": {},
   "outputs": [
    {
     "name": "stdout",
     "output_type": "stream",
     "text": [
      "250085.03682212482\n",
      "Time to calculate is: 12.524127960205078miliseconds\n",
      "250085.03682211955\n",
      "Time to calculate is: 919.5301532745361miliseconds\n"
     ]
    }
   ],
   "source": [
    "import numpy as np\n",
    "import time\n",
    "a = np.random.rand(1000000)\n",
    "b = np.random.rand(1000000)\n",
    "tic = time.time()\n",
    "c = np.dot(a,b)\n",
    "toc = time.time()\n",
    "print(c)\n",
    "print(\"Time to calculate is: \" + str(1000*(toc-tic)) + \"miliseconds\")\n",
    "\n",
    "\n",
    "c = 0\n",
    "tic = time.time()\n",
    "for i in range(1000000):\n",
    "    c += a[i] * b[i]\n",
    "toc = time.time()\n",
    "print(c)\n",
    "print('Time to calculate is: ' + str(1000*(toc-tic)) + 'miliseconds')\n",
    "\n"
   ]
  },
  {
   "cell_type": "code",
   "execution_count": null,
   "metadata": {},
   "outputs": [],
   "source": [
    "import numpy as np\n",
    "import time\n",
    "\n",
    "m = 1000\n",
    "n = 3000\n",
    "J = 0\n",
    "X = np.random.rand(m, n)\n",
    "W = np.random.rand(n, 1)\n",
    "Z = np.zeros((m,1))\n",
    "A = np.zeros((m,1))\n",
    "Y = np.random.rand(m,1)\n",
    "dz = np.zeros((m,1))\n",
    "dw = np.zeros((n,1))\n",
    "db = dz\n",
    "\n",
    "tic = time.time()\n",
    "Z = np.dot(X, W)\n",
    "A = 1/(1 + np.exp(-1*(Z)))\n",
    "dz = A - Y\n",
    "dw = np.dot(np.transpose(X),dz) \n",
    "db = np.sum(dz)\n",
    "toc = time.time()\n",
    "print(db)\n",
    "print('Time is '+str(1000*(toc-tic))+' ms')\n",
    "\n",
    "#def sigmoid(Z):\n",
    "   # sig = 1/(1 + exp(-Z))\n",
    "#tic = time.time() \n",
    "#for i in range(1,m):\n",
    "   # Z[i] = X[i, n] * W\n",
    "   # A[i] = 1/(1 + exp(-1*(Z[i]))\n",
    "   # J += -1*[Y[i]*log(A[i])+(1-Y[i])*log(1-A[i])]\n",
    "   # dz[i] = A[i] - Y[i]\n",
    "   # db += dz[i]\n",
    "    #for j in range(1,n):\n",
    "    #    dw[j] += dz[i] * X[i, j]\n",
    "              \n",
    "#toc = time.time()\n",
    "#J = J/m\n",
    "#db = db/m\n",
    "#dw = dw/m\n",
    "#print(\"J is: \", J)\n",
    "#print(\"dw is: \", dw)\n",
    "#print(\"For loop took:\" + str(toc-tic) + \"seconds\")\n",
    "    \n"
   ]
  },
  {
   "cell_type": "code",
   "execution_count": 6,
   "metadata": {},
   "outputs": [
    {
     "name": "stdout",
     "output_type": "stream",
     "text": [
      "[1.75557004 2.17953    2.50984766 2.40938291]\n",
      "[[11.15916845 16.91552453 35.41741404 31.13733976]\n",
      " [45.80031417 37.58304527 39.61850661 32.93697405]\n",
      " [43.04051738 45.5014302  24.96407935 35.92568619]]\n"
     ]
    }
   ],
   "source": [
    "import numpy as np\n",
    "a = np.random.rand(3,4)\n",
    "cal = a.sum(axis=0)\n",
    "print(cal)\n",
    "\n",
    "percentage = 100 * a/cal.reshape(1,4)\n",
    "print(percentage)"
   ]
  },
  {
   "cell_type": "code",
   "execution_count": 42,
   "metadata": {},
   "outputs": [],
   "source": [
    "import numpy as np\n",
    "a = np.random.randn(5,1)"
   ]
  },
  {
   "cell_type": "code",
   "execution_count": 43,
   "metadata": {},
   "outputs": [
    {
     "name": "stdout",
     "output_type": "stream",
     "text": [
      "[[ 2.22235135]\n",
      " [ 0.7097567 ]\n",
      " [ 0.54313103]\n",
      " [-1.4426465 ]\n",
      " [ 0.97284268]]\n"
     ]
    }
   ],
   "source": [
    "print(a)"
   ]
  },
  {
   "cell_type": "code",
   "execution_count": 44,
   "metadata": {},
   "outputs": [
    {
     "name": "stdout",
     "output_type": "stream",
     "text": [
      "(5, 1)\n"
     ]
    }
   ],
   "source": [
    "print(a.shape)"
   ]
  },
  {
   "cell_type": "code",
   "execution_count": 45,
   "metadata": {},
   "outputs": [
    {
     "name": "stdout",
     "output_type": "stream",
     "text": [
      "[[ 2.22235135  0.7097567   0.54313103 -1.4426465   0.97284268]]\n"
     ]
    }
   ],
   "source": [
    "print(a.T)"
   ]
  },
  {
   "cell_type": "code",
   "execution_count": 46,
   "metadata": {},
   "outputs": [
    {
     "name": "stdout",
     "output_type": "stream",
     "text": [
      "[[ 4.9388455   1.57732876  1.20702798 -3.20606738  2.16199824]\n",
      " [ 1.57732876  0.50375457  0.38549089 -1.02392802  0.69048161]\n",
      " [ 1.20702798  0.38549089  0.29499132 -0.78354608  0.52838105]\n",
      " [-3.20606738 -1.02392802 -0.78354608  2.08122891 -1.40346808]\n",
      " [ 2.16199824  0.69048161  0.52838105 -1.40346808  0.94642288]]\n"
     ]
    }
   ],
   "source": [
    "print(np.dot(a,a.T))"
   ]
  },
  {
   "cell_type": "code",
   "execution_count": 21,
   "metadata": {},
   "outputs": [
    {
     "name": "stdout",
     "output_type": "stream",
     "text": [
      "(1, 2, 3, 3)\n"
     ]
    }
   ],
   "source": [
    "x = np.array([[[[0,2,3], [1,2,3], [2,4,5]],[[0,2,3], [1,2,3], [2,4,5]]]])\n",
    "print(x.shape)"
   ]
  },
  {
   "cell_type": "code",
   "execution_count": 22,
   "metadata": {},
   "outputs": [
    {
     "name": "stdout",
     "output_type": "stream",
     "text": [
      "(2, 3, 3)\n"
     ]
    }
   ],
   "source": [
    "x = np.squeeze(x).shape #me quita los 1, ya esten a izquierda o derecha\n",
    "print(x)"
   ]
  },
  {
   "cell_type": "code",
   "execution_count": 19,
   "metadata": {},
   "outputs": [
    {
     "name": "stdout",
     "output_type": "stream",
     "text": [
      "[[[0. 0. 0.]\n",
      "  [0. 0. 0.]]]\n"
     ]
    }
   ],
   "source": [
    "Y = np.zeros(shape =(1,2,3))\n",
    "print(Y)"
   ]
  },
  {
   "cell_type": "code",
   "execution_count": 20,
   "metadata": {},
   "outputs": [],
   "source": [
    "assert(Y.shape == (1,2,3))"
   ]
  },
  {
   "cell_type": "code",
   "execution_count": 66,
   "metadata": {},
   "outputs": [
    {
     "name": "stdout",
     "output_type": "stream",
     "text": [
      "[[0.12922127 0.99069027 0.77399324 0.09229167 0.05412508]]\n",
      "[[0.49239169 0.75134547 0.45933043 0.84086309 0.70382095]]\n",
      "[[0.06362748 0.74435065 0.35551864 0.07760466 0.03809436]]\n"
     ]
    }
   ],
   "source": [
    "Y = np.random.rand(1,5)\n",
    "A = np.random.rand(1,5)\n",
    "print(A)\n",
    "print(Y)\n",
    "print(Y * A)"
   ]
  },
  {
   "cell_type": "code",
   "execution_count": 78,
   "metadata": {},
   "outputs": [
    {
     "name": "stdout",
     "output_type": "stream",
     "text": [
      "(1, 3)\n"
     ]
    }
   ],
   "source": [
    "X = np.array([[3,2,1]]) #meter dos corchetes para que no sea una 1rank array\n",
    "print(X.shape)\n",
    "X = np.array([i for i in range(4)]).reshape(1,4) #o hacer un .reshape"
   ]
  },
  {
   "cell_type": "code",
   "execution_count": 76,
   "metadata": {},
   "outputs": [],
   "source": [
    "X_norm = np.linalg.norm(X,axis = 1, keepdims = True) #Para dividir cada fila entre la distancia de ese vector\n",
    "#por ejemplo: test_set_x = test_set_x_flatten/np.linalg.norm(test_set_x_flatten, axis = 1, keepdims = True)"
   ]
  },
  {
   "cell_type": "code",
   "execution_count": 164,
   "metadata": {},
   "outputs": [
    {
     "name": "stdout",
     "output_type": "stream",
     "text": [
      "[]\n"
     ]
    }
   ],
   "source": [
    "cost = []\n",
    "print(cost)"
   ]
  },
  {
   "cell_type": "code",
   "execution_count": null,
   "metadata": {},
   "outputs": [],
   "source": [
    "#para entender el lr_utils "
   ]
  },
  {
   "cell_type": "code",
   "execution_count": 222,
   "metadata": {},
   "outputs": [
    {
     "name": "stdout",
     "output_type": "stream",
     "text": [
      "dict_keys(['list_classes', 'train_set_x', 'train_set_y'])\n",
      "dict_values([['non-cat', 'cat'], [[1, 2, 3], [4, 5, 6]], [[5, 6, 4], [1, 2, 3]]])\n",
      "dict_items([('list_classes', ['non-cat', 'cat']), ('train_set_x', [[1, 2, 3], [4, 5, 6]]), ('train_set_y', [[5, 6, 4], [1, 2, 3]])])\n"
     ]
    }
   ],
   "source": [
    "train_dataset = {\"list_classes\": ['non-cat','cat'], \"train_set_x\" : [[1,2,3],[4,5,6]], \"train_set_y\" : [[5,6,4],[1,2,3]]}\n",
    "print(train_dataset.keys())\n",
    "print(train_dataset.values())\n",
    "print(train_dataset.items())"
   ]
  },
  {
   "cell_type": "code",
   "execution_count": 223,
   "metadata": {},
   "outputs": [
    {
     "name": "stdout",
     "output_type": "stream",
     "text": [
      "list_classes\n"
     ]
    }
   ],
   "source": [
    "a_group_key = list(train_dataset.keys())[0]\n",
    "print(a_group_key)"
   ]
  },
  {
   "cell_type": "code",
   "execution_count": 224,
   "metadata": {},
   "outputs": [
    {
     "name": "stdout",
     "output_type": "stream",
     "text": [
      "['non-cat', 'cat']\n"
     ]
    }
   ],
   "source": [
    "data = list(train_dataset[a_group_key])\n",
    "print(data)\n"
   ]
  },
  {
   "cell_type": "code",
   "execution_count": 212,
   "metadata": {
    "scrolled": true
   },
   "outputs": [
    {
     "name": "stdout",
     "output_type": "stream",
     "text": [
      "(2, 3)\n",
      "[[5 6 4]\n",
      " [1 2 3]]\n"
     ]
    }
   ],
   "source": [
    "train_set_x_orig = np.array(train_dataset[\"train_set_x\"][:]) # your train set features\n",
    "train_set_y_orig = np.array(train_dataset[\"train_set_y\"][:])\n",
    "print(train_set_x_orig.shape)\n",
    "print(train_set_y_orig)\n"
   ]
  },
  {
   "cell_type": "code",
   "execution_count": 187,
   "metadata": {},
   "outputs": [],
   "source": [
    "#Basicamente el method .keys de un dictionary nos pone \"dict_keys\" delante de un listado de las keys\n",
    "#entonces creamos una list de los keys, pero solo cogemos el primer elemento y lo asignamos a la variable a_group\n",
    "#\n",
    "#crea a_group es la etiqueta del tipo de animal/planta, que es una key. C"
   ]
  },
  {
   "cell_type": "code",
   "execution_count": 220,
   "metadata": {},
   "outputs": [
    {
     "name": "stdout",
     "output_type": "stream",
     "text": [
      "(10, 4, 4, 3)\n",
      "[[[[  0   1   2]\n",
      "   [  3   4   5]\n",
      "   [  6   7   8]\n",
      "   [  9  10  11]]\n",
      "\n",
      "  [[ 12  13  14]\n",
      "   [ 15  16  17]\n",
      "   [ 18  19  20]\n",
      "   [ 21  22  23]]\n",
      "\n",
      "  [[ 24  25  26]\n",
      "   [ 27  28  29]\n",
      "   [ 30  31  32]\n",
      "   [ 33  34  35]]\n",
      "\n",
      "  [[ 36  37  38]\n",
      "   [ 39  40  41]\n",
      "   [ 42  43  44]\n",
      "   [ 45  46  47]]]\n",
      "\n",
      "\n",
      " [[[ 48  49  50]\n",
      "   [ 51  52  53]\n",
      "   [ 54  55  56]\n",
      "   [ 57  58  59]]\n",
      "\n",
      "  [[ 60  61  62]\n",
      "   [ 63  64  65]\n",
      "   [ 66  67  68]\n",
      "   [ 69  70  71]]\n",
      "\n",
      "  [[ 72  73  74]\n",
      "   [ 75  76  77]\n",
      "   [ 78  79  80]\n",
      "   [ 81  82  83]]\n",
      "\n",
      "  [[ 84  85  86]\n",
      "   [ 87  88  89]\n",
      "   [ 90  91  92]\n",
      "   [ 93  94  95]]]\n",
      "\n",
      "\n",
      " [[[ 96  97  98]\n",
      "   [ 99 100 101]\n",
      "   [102 103 104]\n",
      "   [105 106 107]]\n",
      "\n",
      "  [[108 109 110]\n",
      "   [111 112 113]\n",
      "   [114 115 116]\n",
      "   [117 118 119]]\n",
      "\n",
      "  [[120 121 122]\n",
      "   [123 124 125]\n",
      "   [126 127 128]\n",
      "   [129 130 131]]\n",
      "\n",
      "  [[132 133 134]\n",
      "   [135 136 137]\n",
      "   [138 139 140]\n",
      "   [141 142 143]]]\n",
      "\n",
      "\n",
      " [[[144 145 146]\n",
      "   [147 148 149]\n",
      "   [150 151 152]\n",
      "   [153 154 155]]\n",
      "\n",
      "  [[156 157 158]\n",
      "   [159 160 161]\n",
      "   [162 163 164]\n",
      "   [165 166 167]]\n",
      "\n",
      "  [[168 169 170]\n",
      "   [171 172 173]\n",
      "   [174 175 176]\n",
      "   [177 178 179]]\n",
      "\n",
      "  [[180 181 182]\n",
      "   [183 184 185]\n",
      "   [186 187 188]\n",
      "   [189 190 191]]]\n",
      "\n",
      "\n",
      " [[[192 193 194]\n",
      "   [195 196 197]\n",
      "   [198 199 200]\n",
      "   [201 202 203]]\n",
      "\n",
      "  [[204 205 206]\n",
      "   [207 208 209]\n",
      "   [210 211 212]\n",
      "   [213 214 215]]\n",
      "\n",
      "  [[216 217 218]\n",
      "   [219 220 221]\n",
      "   [222 223 224]\n",
      "   [225 226 227]]\n",
      "\n",
      "  [[228 229 230]\n",
      "   [231 232 233]\n",
      "   [234 235 236]\n",
      "   [237 238 239]]]\n",
      "\n",
      "\n",
      " [[[240 241 242]\n",
      "   [243 244 245]\n",
      "   [246 247 248]\n",
      "   [249 250 251]]\n",
      "\n",
      "  [[252 253 254]\n",
      "   [255 256 257]\n",
      "   [258 259 260]\n",
      "   [261 262 263]]\n",
      "\n",
      "  [[264 265 266]\n",
      "   [267 268 269]\n",
      "   [270 271 272]\n",
      "   [273 274 275]]\n",
      "\n",
      "  [[276 277 278]\n",
      "   [279 280 281]\n",
      "   [282 283 284]\n",
      "   [285 286 287]]]\n",
      "\n",
      "\n",
      " [[[288 289 290]\n",
      "   [291 292 293]\n",
      "   [294 295 296]\n",
      "   [297 298 299]]\n",
      "\n",
      "  [[300 301 302]\n",
      "   [303 304 305]\n",
      "   [306 307 308]\n",
      "   [309 310 311]]\n",
      "\n",
      "  [[312 313 314]\n",
      "   [315 316 317]\n",
      "   [318 319 320]\n",
      "   [321 322 323]]\n",
      "\n",
      "  [[324 325 326]\n",
      "   [327 328 329]\n",
      "   [330 331 332]\n",
      "   [333 334 335]]]\n",
      "\n",
      "\n",
      " [[[336 337 338]\n",
      "   [339 340 341]\n",
      "   [342 343 344]\n",
      "   [345 346 347]]\n",
      "\n",
      "  [[348 349 350]\n",
      "   [351 352 353]\n",
      "   [354 355 356]\n",
      "   [357 358 359]]\n",
      "\n",
      "  [[360 361 362]\n",
      "   [363 364 365]\n",
      "   [366 367 368]\n",
      "   [369 370 371]]\n",
      "\n",
      "  [[372 373 374]\n",
      "   [375 376 377]\n",
      "   [378 379 380]\n",
      "   [381 382 383]]]\n",
      "\n",
      "\n",
      " [[[384 385 386]\n",
      "   [387 388 389]\n",
      "   [390 391 392]\n",
      "   [393 394 395]]\n",
      "\n",
      "  [[396 397 398]\n",
      "   [399 400 401]\n",
      "   [402 403 404]\n",
      "   [405 406 407]]\n",
      "\n",
      "  [[408 409 410]\n",
      "   [411 412 413]\n",
      "   [414 415 416]\n",
      "   [417 418 419]]\n",
      "\n",
      "  [[420 421 422]\n",
      "   [423 424 425]\n",
      "   [426 427 428]\n",
      "   [429 430 431]]]\n",
      "\n",
      "\n",
      " [[[432 433 434]\n",
      "   [435 436 437]\n",
      "   [438 439 440]\n",
      "   [441 442 443]]\n",
      "\n",
      "  [[444 445 446]\n",
      "   [447 448 449]\n",
      "   [450 451 452]\n",
      "   [453 454 455]]\n",
      "\n",
      "  [[456 457 458]\n",
      "   [459 460 461]\n",
      "   [462 463 464]\n",
      "   [465 466 467]]\n",
      "\n",
      "  [[468 469 470]\n",
      "   [471 472 473]\n",
      "   [474 475 476]\n",
      "   [477 478 479]]]]\n"
     ]
    }
   ],
   "source": [
    "import numpy as np\n",
    "\n",
    "# to keep the example easy to view, we use 10 examples of pictures.  Each picture is of size 4x4 pixels, and each pixel contains 3 (r,g,b) values\n",
    "# we first fill an array with sequential 480 entries (10*4*4*3) and then reshape it into an 10x4x4x3 array\n",
    "a=np.arange(10*4*4*3).reshape(10, 4, 4, 3)\n",
    "print(a.shape)\n",
    "print(a)"
   ]
  },
  {
   "cell_type": "code",
   "execution_count": 214,
   "metadata": {
    "scrolled": false
   },
   "outputs": [
    {
     "name": "stdout",
     "output_type": "stream",
     "text": [
      "(10, 4, 4, 3)\n",
      "[[[[  0   1   2]\n",
      "   [  3   4   5]\n",
      "   [  6   7   8]\n",
      "   [  9  10  11]]\n",
      "\n",
      "  [[ 12  13  14]\n",
      "   [ 15  16  17]\n",
      "   [ 18  19  20]\n",
      "   [ 21  22  23]]\n",
      "\n",
      "  [[ 24  25  26]\n",
      "   [ 27  28  29]\n",
      "   [ 30  31  32]\n",
      "   [ 33  34  35]]\n",
      "\n",
      "  [[ 36  37  38]\n",
      "   [ 39  40  41]\n",
      "   [ 42  43  44]\n",
      "   [ 45  46  47]]]\n",
      "\n",
      "\n",
      " [[[ 48  49  50]\n",
      "   [ 51  52  53]\n",
      "   [ 54  55  56]\n",
      "   [ 57  58  59]]\n",
      "\n",
      "  [[ 60  61  62]\n",
      "   [ 63  64  65]\n",
      "   [ 66  67  68]\n",
      "   [ 69  70  71]]\n",
      "\n",
      "  [[ 72  73  74]\n",
      "   [ 75  76  77]\n",
      "   [ 78  79  80]\n",
      "   [ 81  82  83]]\n",
      "\n",
      "  [[ 84  85  86]\n",
      "   [ 87  88  89]\n",
      "   [ 90  91  92]\n",
      "   [ 93  94  95]]]\n",
      "\n",
      "\n",
      " [[[ 96  97  98]\n",
      "   [ 99 100 101]\n",
      "   [102 103 104]\n",
      "   [105 106 107]]\n",
      "\n",
      "  [[108 109 110]\n",
      "   [111 112 113]\n",
      "   [114 115 116]\n",
      "   [117 118 119]]\n",
      "\n",
      "  [[120 121 122]\n",
      "   [123 124 125]\n",
      "   [126 127 128]\n",
      "   [129 130 131]]\n",
      "\n",
      "  [[132 133 134]\n",
      "   [135 136 137]\n",
      "   [138 139 140]\n",
      "   [141 142 143]]]\n",
      "\n",
      "\n",
      " [[[144 145 146]\n",
      "   [147 148 149]\n",
      "   [150 151 152]\n",
      "   [153 154 155]]\n",
      "\n",
      "  [[156 157 158]\n",
      "   [159 160 161]\n",
      "   [162 163 164]\n",
      "   [165 166 167]]\n",
      "\n",
      "  [[168 169 170]\n",
      "   [171 172 173]\n",
      "   [174 175 176]\n",
      "   [177 178 179]]\n",
      "\n",
      "  [[180 181 182]\n",
      "   [183 184 185]\n",
      "   [186 187 188]\n",
      "   [189 190 191]]]\n",
      "\n",
      "\n",
      " [[[192 193 194]\n",
      "   [195 196 197]\n",
      "   [198 199 200]\n",
      "   [201 202 203]]\n",
      "\n",
      "  [[204 205 206]\n",
      "   [207 208 209]\n",
      "   [210 211 212]\n",
      "   [213 214 215]]\n",
      "\n",
      "  [[216 217 218]\n",
      "   [219 220 221]\n",
      "   [222 223 224]\n",
      "   [225 226 227]]\n",
      "\n",
      "  [[228 229 230]\n",
      "   [231 232 233]\n",
      "   [234 235 236]\n",
      "   [237 238 239]]]\n",
      "\n",
      "\n",
      " [[[240 241 242]\n",
      "   [243 244 245]\n",
      "   [246 247 248]\n",
      "   [249 250 251]]\n",
      "\n",
      "  [[252 253 254]\n",
      "   [255 256 257]\n",
      "   [258 259 260]\n",
      "   [261 262 263]]\n",
      "\n",
      "  [[264 265 266]\n",
      "   [267 268 269]\n",
      "   [270 271 272]\n",
      "   [273 274 275]]\n",
      "\n",
      "  [[276 277 278]\n",
      "   [279 280 281]\n",
      "   [282 283 284]\n",
      "   [285 286 287]]]\n",
      "\n",
      "\n",
      " [[[288 289 290]\n",
      "   [291 292 293]\n",
      "   [294 295 296]\n",
      "   [297 298 299]]\n",
      "\n",
      "  [[300 301 302]\n",
      "   [303 304 305]\n",
      "   [306 307 308]\n",
      "   [309 310 311]]\n",
      "\n",
      "  [[312 313 314]\n",
      "   [315 316 317]\n",
      "   [318 319 320]\n",
      "   [321 322 323]]\n",
      "\n",
      "  [[324 325 326]\n",
      "   [327 328 329]\n",
      "   [330 331 332]\n",
      "   [333 334 335]]]\n",
      "\n",
      "\n",
      " [[[336 337 338]\n",
      "   [339 340 341]\n",
      "   [342 343 344]\n",
      "   [345 346 347]]\n",
      "\n",
      "  [[348 349 350]\n",
      "   [351 352 353]\n",
      "   [354 355 356]\n",
      "   [357 358 359]]\n",
      "\n",
      "  [[360 361 362]\n",
      "   [363 364 365]\n",
      "   [366 367 368]\n",
      "   [369 370 371]]\n",
      "\n",
      "  [[372 373 374]\n",
      "   [375 376 377]\n",
      "   [378 379 380]\n",
      "   [381 382 383]]]\n",
      "\n",
      "\n",
      " [[[384 385 386]\n",
      "   [387 388 389]\n",
      "   [390 391 392]\n",
      "   [393 394 395]]\n",
      "\n",
      "  [[396 397 398]\n",
      "   [399 400 401]\n",
      "   [402 403 404]\n",
      "   [405 406 407]]\n",
      "\n",
      "  [[408 409 410]\n",
      "   [411 412 413]\n",
      "   [414 415 416]\n",
      "   [417 418 419]]\n",
      "\n",
      "  [[420 421 422]\n",
      "   [423 424 425]\n",
      "   [426 427 428]\n",
      "   [429 430 431]]]\n",
      "\n",
      "\n",
      " [[[432 433 434]\n",
      "   [435 436 437]\n",
      "   [438 439 440]\n",
      "   [441 442 443]]\n",
      "\n",
      "  [[444 445 446]\n",
      "   [447 448 449]\n",
      "   [450 451 452]\n",
      "   [453 454 455]]\n",
      "\n",
      "  [[456 457 458]\n",
      "   [459 460 461]\n",
      "   [462 463 464]\n",
      "   [465 466 467]]\n",
      "\n",
      "  [[468 469 470]\n",
      "   [471 472 473]\n",
      "   [474 475 476]\n",
      "   [477 478 479]]]]\n"
     ]
    }
   ],
   "source": [
    "\n",
    "# we can reshape arrays using .reshape method\n",
    "# array axis are numbered from 0 and accessed through .shape method\n",
    "# if a specific axis is specified to .reshape, that axis is preserved and the rest of the axis' are reshaped/flattened\n",
    "# a -1 argument tells numpy to figure out the dimensions of reshaped axis \n",
    "# flatten the innermost axis (the r,g,b values), which are already flat, so this operation does nothing\n",
    "aflat=a.reshape(a.shape[0],a.shape[1],a.shape[2],-1)\n",
    "print(aflat.shape)\n",
    "print(aflat)"
   ]
  },
  {
   "cell_type": "code",
   "execution_count": 216,
   "metadata": {},
   "outputs": [
    {
     "name": "stdout",
     "output_type": "stream",
     "text": [
      "(10, 4, 12)\n",
      "[[[  0   1   2   3   4   5   6   7   8   9  10  11]\n",
      "  [ 12  13  14  15  16  17  18  19  20  21  22  23]\n",
      "  [ 24  25  26  27  28  29  30  31  32  33  34  35]\n",
      "  [ 36  37  38  39  40  41  42  43  44  45  46  47]]\n",
      "\n",
      " [[ 48  49  50  51  52  53  54  55  56  57  58  59]\n",
      "  [ 60  61  62  63  64  65  66  67  68  69  70  71]\n",
      "  [ 72  73  74  75  76  77  78  79  80  81  82  83]\n",
      "  [ 84  85  86  87  88  89  90  91  92  93  94  95]]\n",
      "\n",
      " [[ 96  97  98  99 100 101 102 103 104 105 106 107]\n",
      "  [108 109 110 111 112 113 114 115 116 117 118 119]\n",
      "  [120 121 122 123 124 125 126 127 128 129 130 131]\n",
      "  [132 133 134 135 136 137 138 139 140 141 142 143]]\n",
      "\n",
      " [[144 145 146 147 148 149 150 151 152 153 154 155]\n",
      "  [156 157 158 159 160 161 162 163 164 165 166 167]\n",
      "  [168 169 170 171 172 173 174 175 176 177 178 179]\n",
      "  [180 181 182 183 184 185 186 187 188 189 190 191]]\n",
      "\n",
      " [[192 193 194 195 196 197 198 199 200 201 202 203]\n",
      "  [204 205 206 207 208 209 210 211 212 213 214 215]\n",
      "  [216 217 218 219 220 221 222 223 224 225 226 227]\n",
      "  [228 229 230 231 232 233 234 235 236 237 238 239]]\n",
      "\n",
      " [[240 241 242 243 244 245 246 247 248 249 250 251]\n",
      "  [252 253 254 255 256 257 258 259 260 261 262 263]\n",
      "  [264 265 266 267 268 269 270 271 272 273 274 275]\n",
      "  [276 277 278 279 280 281 282 283 284 285 286 287]]\n",
      "\n",
      " [[288 289 290 291 292 293 294 295 296 297 298 299]\n",
      "  [300 301 302 303 304 305 306 307 308 309 310 311]\n",
      "  [312 313 314 315 316 317 318 319 320 321 322 323]\n",
      "  [324 325 326 327 328 329 330 331 332 333 334 335]]\n",
      "\n",
      " [[336 337 338 339 340 341 342 343 344 345 346 347]\n",
      "  [348 349 350 351 352 353 354 355 356 357 358 359]\n",
      "  [360 361 362 363 364 365 366 367 368 369 370 371]\n",
      "  [372 373 374 375 376 377 378 379 380 381 382 383]]\n",
      "\n",
      " [[384 385 386 387 388 389 390 391 392 393 394 395]\n",
      "  [396 397 398 399 400 401 402 403 404 405 406 407]\n",
      "  [408 409 410 411 412 413 414 415 416 417 418 419]\n",
      "  [420 421 422 423 424 425 426 427 428 429 430 431]]\n",
      "\n",
      " [[432 433 434 435 436 437 438 439 440 441 442 443]\n",
      "  [444 445 446 447 448 449 450 451 452 453 454 455]\n",
      "  [456 457 458 459 460 461 462 463 464 465 466 467]\n",
      "  [468 469 470 471 472 473 474 475 476 477 478 479]]]\n"
     ]
    }
   ],
   "source": [
    "# flatten the innermost two axis (r,g,b values in each pixel row). 4x3 gets flattened to 12 color values\n",
    "aflat=a.reshape(a.shape[0],a.shape[1],-1)\n",
    "print(aflat.shape)\n",
    "print(aflat)"
   ]
  },
  {
   "cell_type": "code",
   "execution_count": 217,
   "metadata": {},
   "outputs": [
    {
     "name": "stdout",
     "output_type": "stream",
     "text": [
      "(10, 48)\n",
      "[[  0   1   2   3   4   5   6   7   8   9  10  11  12  13  14  15  16  17\n",
      "   18  19  20  21  22  23  24  25  26  27  28  29  30  31  32  33  34  35\n",
      "   36  37  38  39  40  41  42  43  44  45  46  47]\n",
      " [ 48  49  50  51  52  53  54  55  56  57  58  59  60  61  62  63  64  65\n",
      "   66  67  68  69  70  71  72  73  74  75  76  77  78  79  80  81  82  83\n",
      "   84  85  86  87  88  89  90  91  92  93  94  95]\n",
      " [ 96  97  98  99 100 101 102 103 104 105 106 107 108 109 110 111 112 113\n",
      "  114 115 116 117 118 119 120 121 122 123 124 125 126 127 128 129 130 131\n",
      "  132 133 134 135 136 137 138 139 140 141 142 143]\n",
      " [144 145 146 147 148 149 150 151 152 153 154 155 156 157 158 159 160 161\n",
      "  162 163 164 165 166 167 168 169 170 171 172 173 174 175 176 177 178 179\n",
      "  180 181 182 183 184 185 186 187 188 189 190 191]\n",
      " [192 193 194 195 196 197 198 199 200 201 202 203 204 205 206 207 208 209\n",
      "  210 211 212 213 214 215 216 217 218 219 220 221 222 223 224 225 226 227\n",
      "  228 229 230 231 232 233 234 235 236 237 238 239]\n",
      " [240 241 242 243 244 245 246 247 248 249 250 251 252 253 254 255 256 257\n",
      "  258 259 260 261 262 263 264 265 266 267 268 269 270 271 272 273 274 275\n",
      "  276 277 278 279 280 281 282 283 284 285 286 287]\n",
      " [288 289 290 291 292 293 294 295 296 297 298 299 300 301 302 303 304 305\n",
      "  306 307 308 309 310 311 312 313 314 315 316 317 318 319 320 321 322 323\n",
      "  324 325 326 327 328 329 330 331 332 333 334 335]\n",
      " [336 337 338 339 340 341 342 343 344 345 346 347 348 349 350 351 352 353\n",
      "  354 355 356 357 358 359 360 361 362 363 364 365 366 367 368 369 370 371\n",
      "  372 373 374 375 376 377 378 379 380 381 382 383]\n",
      " [384 385 386 387 388 389 390 391 392 393 394 395 396 397 398 399 400 401\n",
      "  402 403 404 405 406 407 408 409 410 411 412 413 414 415 416 417 418 419\n",
      "  420 421 422 423 424 425 426 427 428 429 430 431]\n",
      " [432 433 434 435 436 437 438 439 440 441 442 443 444 445 446 447 448 449\n",
      "  450 451 452 453 454 455 456 457 458 459 460 461 462 463 464 465 466 467\n",
      "  468 469 470 471 472 473 474 475 476 477 478 479]]\n"
     ]
    }
   ],
   "source": [
    "\n",
    "# flatten the innermost three axis (r,g,b values in each pixel row, reading left to right and top to bottom). 4x4x3 gets flattened to 48 values.  this operation flattens each individual image\n",
    "aflat=a.reshape(a.shape[0],-1)\n",
    "print(aflat.shape)\n",
    "print(aflat)"
   ]
  },
  {
   "cell_type": "code",
   "execution_count": 218,
   "metadata": {},
   "outputs": [
    {
     "name": "stdout",
     "output_type": "stream",
     "text": [
      "(48, 10)\n",
      "[[  0  48  96 144 192 240 288 336 384 432]\n",
      " [  1  49  97 145 193 241 289 337 385 433]\n",
      " [  2  50  98 146 194 242 290 338 386 434]\n",
      " [  3  51  99 147 195 243 291 339 387 435]\n",
      " [  4  52 100 148 196 244 292 340 388 436]\n",
      " [  5  53 101 149 197 245 293 341 389 437]\n",
      " [  6  54 102 150 198 246 294 342 390 438]\n",
      " [  7  55 103 151 199 247 295 343 391 439]\n",
      " [  8  56 104 152 200 248 296 344 392 440]\n",
      " [  9  57 105 153 201 249 297 345 393 441]\n",
      " [ 10  58 106 154 202 250 298 346 394 442]\n",
      " [ 11  59 107 155 203 251 299 347 395 443]\n",
      " [ 12  60 108 156 204 252 300 348 396 444]\n",
      " [ 13  61 109 157 205 253 301 349 397 445]\n",
      " [ 14  62 110 158 206 254 302 350 398 446]\n",
      " [ 15  63 111 159 207 255 303 351 399 447]\n",
      " [ 16  64 112 160 208 256 304 352 400 448]\n",
      " [ 17  65 113 161 209 257 305 353 401 449]\n",
      " [ 18  66 114 162 210 258 306 354 402 450]\n",
      " [ 19  67 115 163 211 259 307 355 403 451]\n",
      " [ 20  68 116 164 212 260 308 356 404 452]\n",
      " [ 21  69 117 165 213 261 309 357 405 453]\n",
      " [ 22  70 118 166 214 262 310 358 406 454]\n",
      " [ 23  71 119 167 215 263 311 359 407 455]\n",
      " [ 24  72 120 168 216 264 312 360 408 456]\n",
      " [ 25  73 121 169 217 265 313 361 409 457]\n",
      " [ 26  74 122 170 218 266 314 362 410 458]\n",
      " [ 27  75 123 171 219 267 315 363 411 459]\n",
      " [ 28  76 124 172 220 268 316 364 412 460]\n",
      " [ 29  77 125 173 221 269 317 365 413 461]\n",
      " [ 30  78 126 174 222 270 318 366 414 462]\n",
      " [ 31  79 127 175 223 271 319 367 415 463]\n",
      " [ 32  80 128 176 224 272 320 368 416 464]\n",
      " [ 33  81 129 177 225 273 321 369 417 465]\n",
      " [ 34  82 130 178 226 274 322 370 418 466]\n",
      " [ 35  83 131 179 227 275 323 371 419 467]\n",
      " [ 36  84 132 180 228 276 324 372 420 468]\n",
      " [ 37  85 133 181 229 277 325 373 421 469]\n",
      " [ 38  86 134 182 230 278 326 374 422 470]\n",
      " [ 39  87 135 183 231 279 327 375 423 471]\n",
      " [ 40  88 136 184 232 280 328 376 424 472]\n",
      " [ 41  89 137 185 233 281 329 377 425 473]\n",
      " [ 42  90 138 186 234 282 330 378 426 474]\n",
      " [ 43  91 139 187 235 283 331 379 427 475]\n",
      " [ 44  92 140 188 236 284 332 380 428 476]\n",
      " [ 45  93 141 189 237 285 333 381 429 477]\n",
      " [ 46  94 142 190 238 286 334 382 430 478]\n",
      " [ 47  95 143 191 239 287 335 383 431 479]]\n"
     ]
    }
   ],
   "source": [
    "# at this point, the rows have 'examples' (the training or test cases) and columns have the 'features' (the color values).  to get the features in rows and examples in columns, we transpose the matrix using the .T method\n",
    "aflatt=aflat.T\n",
    "print(aflatt.shape)\n",
    "print(aflatt)\n",
    "\n",
    "# fun exercise\n",
    "# to create random pixel noise to test your trained network, try the following\n",
    "# x_test=np.random.randint(255,size=(64*64*3,209))\n",
    "# print(x_test.shape)\n",
    "# print(x_test)"
   ]
  },
  {
   "cell_type": "code",
   "execution_count": 221,
   "metadata": {},
   "outputs": [
    {
     "name": "stdout",
     "output_type": "stream",
     "text": [
      "(48, 10)\n",
      "[[  0   1   2   3   4   5   6   7   8   9]\n",
      " [ 10  11  12  13  14  15  16  17  18  19]\n",
      " [ 20  21  22  23  24  25  26  27  28  29]\n",
      " [ 30  31  32  33  34  35  36  37  38  39]\n",
      " [ 40  41  42  43  44  45  46  47  48  49]\n",
      " [ 50  51  52  53  54  55  56  57  58  59]\n",
      " [ 60  61  62  63  64  65  66  67  68  69]\n",
      " [ 70  71  72  73  74  75  76  77  78  79]\n",
      " [ 80  81  82  83  84  85  86  87  88  89]\n",
      " [ 90  91  92  93  94  95  96  97  98  99]\n",
      " [100 101 102 103 104 105 106 107 108 109]\n",
      " [110 111 112 113 114 115 116 117 118 119]\n",
      " [120 121 122 123 124 125 126 127 128 129]\n",
      " [130 131 132 133 134 135 136 137 138 139]\n",
      " [140 141 142 143 144 145 146 147 148 149]\n",
      " [150 151 152 153 154 155 156 157 158 159]\n",
      " [160 161 162 163 164 165 166 167 168 169]\n",
      " [170 171 172 173 174 175 176 177 178 179]\n",
      " [180 181 182 183 184 185 186 187 188 189]\n",
      " [190 191 192 193 194 195 196 197 198 199]\n",
      " [200 201 202 203 204 205 206 207 208 209]\n",
      " [210 211 212 213 214 215 216 217 218 219]\n",
      " [220 221 222 223 224 225 226 227 228 229]\n",
      " [230 231 232 233 234 235 236 237 238 239]\n",
      " [240 241 242 243 244 245 246 247 248 249]\n",
      " [250 251 252 253 254 255 256 257 258 259]\n",
      " [260 261 262 263 264 265 266 267 268 269]\n",
      " [270 271 272 273 274 275 276 277 278 279]\n",
      " [280 281 282 283 284 285 286 287 288 289]\n",
      " [290 291 292 293 294 295 296 297 298 299]\n",
      " [300 301 302 303 304 305 306 307 308 309]\n",
      " [310 311 312 313 314 315 316 317 318 319]\n",
      " [320 321 322 323 324 325 326 327 328 329]\n",
      " [330 331 332 333 334 335 336 337 338 339]\n",
      " [340 341 342 343 344 345 346 347 348 349]\n",
      " [350 351 352 353 354 355 356 357 358 359]\n",
      " [360 361 362 363 364 365 366 367 368 369]\n",
      " [370 371 372 373 374 375 376 377 378 379]\n",
      " [380 381 382 383 384 385 386 387 388 389]\n",
      " [390 391 392 393 394 395 396 397 398 399]\n",
      " [400 401 402 403 404 405 406 407 408 409]\n",
      " [410 411 412 413 414 415 416 417 418 419]\n",
      " [420 421 422 423 424 425 426 427 428 429]\n",
      " [430 431 432 433 434 435 436 437 438 439]\n",
      " [440 441 442 443 444 445 446 447 448 449]\n",
      " [450 451 452 453 454 455 456 457 458 459]\n",
      " [460 461 462 463 464 465 466 467 468 469]\n",
      " [470 471 472 473 474 475 476 477 478 479]]\n"
     ]
    }
   ],
   "source": [
    "a=np.arange(10*4*4*3).reshape(48,10)\n",
    "print(a.shape)\n",
    "print(a)"
   ]
  },
  {
   "cell_type": "code",
   "execution_count": 30,
   "metadata": {},
   "outputs": [],
   "source": [
    "import numpy as np\n",
    "np.random.seed(1)\n",
    "m = 400 # number of examples\n",
    "N = int(m/2) # number of points per class\n",
    "D = 2 # dimensionality\n",
    "X = np.zeros((m,D)) # data matrix where each row is a single example\n",
    "Y = np.zeros((m,1), dtype='uint8') # labels vector (0 for red, 1 for blue)\n",
    "a = 4 # maximum ray of the flower"
   ]
  },
  {
   "cell_type": "code",
   "execution_count": 31,
   "metadata": {},
   "outputs": [
    {
     "name": "stdout",
     "output_type": "stream",
     "text": [
      "(2, 400)\n",
      "(1, 400)\n"
     ]
    }
   ],
   "source": [
    " for j in range(2):\n",
    "        ix = range(N*j,N*(j+1))\n",
    "        t = np.linspace(j*3.12,(j+1)*3.12,N) + np.random.randn(N)*0.2 # theta\n",
    "        r = a*np.sin(4*t) + np.random.randn(N)*0.2 # radius\n",
    "        X[ix] = np.c_[r*np.sin(t), r*np.cos(t)]\n",
    "        Y[ix] = j\n",
    "X = X.T\n",
    "Y = Y.T\n",
    "print(X.shape)\n",
    "print(Y.shape)"
   ]
  },
  {
   "cell_type": "code",
   "execution_count": 38,
   "metadata": {},
   "outputs": [
    {
     "name": "stdout",
     "output_type": "stream",
     "text": [
      "Help on built-in function seed:\n",
      "\n",
      "seed(...) method of mtrand.RandomState instance\n",
      "    seed(seed=None)\n",
      "    \n",
      "    Seed the generator.\n",
      "    \n",
      "    This method is called when `RandomState` is initialized. It can be\n",
      "    called again to re-seed the generator. For details, see `RandomState`.\n",
      "    \n",
      "    Parameters\n",
      "    ----------\n",
      "    seed : int or 1-d array_like, optional\n",
      "        Seed for `RandomState`.\n",
      "        Must be convertible to 32 bit unsigned integers.\n",
      "    \n",
      "    See Also\n",
      "    --------\n",
      "    RandomState\n",
      "\n"
     ]
    }
   ],
   "source": [
    "help(np.random.seed)\n"
   ]
  },
  {
   "cell_type": "code",
   "execution_count": 51,
   "metadata": {},
   "outputs": [
    {
     "name": "stdout",
     "output_type": "stream",
     "text": [
      "1\n",
      "2\n",
      "3\n",
      "4\n",
      "5\n",
      "20\n",
      "50\n"
     ]
    }
   ],
   "source": [
    "hidden_layer_sizes = [1, 2, 3, 4, 5, 20, 50]\n",
    "for i, n_h in enumerate(hidden_layer_sizes):\n",
    "    #print(i) \n",
    "    print(n_h)\n"
   ]
  },
  {
   "cell_type": "code",
   "execution_count": 52,
   "metadata": {},
   "outputs": [
    {
     "name": "stdout",
     "output_type": "stream",
     "text": [
      "[[ 0.25170772  0.2626321 ]\n",
      " [-0.03052097 -0.2892355 ]\n",
      " [-0.45852492 -0.1781712 ]]\n",
      "[[0.25170772 0.2626321 ]\n",
      " [0.         0.        ]\n",
      " [0.         0.        ]]\n",
      "[[ 0.25170772  0.2626321 ]\n",
      " [-0.         -0.        ]\n",
      " [-0.         -0.        ]]\n",
      "[[0.25170772 0.2626321 ]\n",
      " [0.         0.        ]\n",
      " [0.         0.        ]]\n",
      "max method:\n",
      "408 ms ± 24.2 ms per loop (mean ± std. dev. of 7 runs, 10 loops each)\n",
      "multiplication method:\n",
      "538 ms ± 54.3 ms per loop (mean ± std. dev. of 7 runs, 10 loops each)\n",
      "abs method:\n",
      "446 ms ± 36 ms per loop (mean ± std. dev. of 7 runs, 10 loops each)\n"
     ]
    }
   ],
   "source": [
    "x = np.random.random((3, 2)) - 0.5\n",
    "print(x)\n",
    "print(np.maximum(x, 0))\n",
    "print(x * (x > 0))\n",
    "print((abs(x) + x) / 2)\n",
    "\n",
    "import numpy as np\n",
    "\n",
    "x = np.random.random((5000, 5000)) - 0.5\n",
    "print(\"max method:\")\n",
    "%timeit -n10 np.maximum(x, 0)\n",
    "\n",
    "print(\"multiplication method:\")\n",
    "%timeit -n10 x * (x > 0)\n",
    "\n",
    "print(\"abs method:\")\n",
    "%timeit -n10 (abs(x) + x) / 2"
   ]
  },
  {
   "cell_type": "code",
   "execution_count": 54,
   "metadata": {},
   "outputs": [
    {
     "name": "stdout",
     "output_type": "stream",
     "text": [
      "fancy index:\n",
      "86.5 ms ± 31.2 ms per loop (mean ± std. dev. of 7 runs, 10 loops each)\n"
     ]
    }
   ],
   "source": [
    "print(\"fancy index:\") # Lo que pasa que este reescribe la matriz original... igual que si hacemos np.maximum(x,0,x)\n",
    "%timeit -n10 x[x<0] =0"
   ]
  },
  {
   "cell_type": "code",
   "execution_count": 62,
   "metadata": {
    "scrolled": true
   },
   "outputs": [
    {
     "data": {
      "text/plain": [
       "<matplotlib.legend.Legend at 0x1278eedd8>"
      ]
     },
     "execution_count": 62,
     "metadata": {},
     "output_type": "execute_result"
    },
    {
     "data": {
      "image/png": "[encoded data removed]",
      "text/plain": [
       "<Figure size 504x504 with 1 Axes>"
      ]
     },
     "metadata": {
      "needs_background": "light"
     },
     "output_type": "display_data"
    }
   ],
   "source": [
    "def f(x):\n",
    "    \"\"\"ReLU returns 1 if x>0, else 0.\"\"\"\n",
    "    return np.maximum(0,x)\n",
    "\n",
    "plt.figure(figsize=(7,7))\n",
    "\n",
    "X_neg = np.arange(-4,1,1) # Negative numbers.\n",
    "plt.plot(X_neg,f(X_neg),'.-', label='$f\\'(x) =0$'); # Plot negative x, f(x)\n",
    "\n",
    "X_pos = np.arange(0,5,1) # Positive numbers\n",
    "plt.plot(X_pos, f(X_pos), '.-g',label='$f\\'(x)=1$') # Plot positive x, f(x)\n",
    "\n",
    "plt.plot(0,f(0),'or',label='$f \\'(x)=$undefined but set to 0') # At 0.\n",
    "\n",
    "plt.ylim(-1,5); plt.grid(); plt.xlabel('$x$', fontsize=22); plt.ylabel('$f(x)$', fontsize=22) # Make plot look nice.\n",
    "plt.legend(loc='best', fontsize=16)"
   ]
  },
  {
   "cell_type": "code",
   "execution_count": 64,
   "metadata": {
    "scrolled": true
   },
   "outputs": [
    {
     "name": "stdout",
     "output_type": "stream",
     "text": [
      "x1\n",
      "x2\n"
     ]
    }
   ],
   "source": [
    "for l in range(1,3):#va del 1 al 3 sin contar el 3, es decir del 1 al 2\n",
    "    print('x' + str(l))\n",
    "    "
   ]
  },
  {
   "cell_type": "code",
   "execution_count": 65,
   "metadata": {},
   "outputs": [
    {
     "name": "stdout",
     "output_type": "stream",
     "text": [
      "0\n",
      "1\n",
      "2\n"
     ]
    }
   ],
   "source": [
    "for l in range (3):\n",
    "    print(l)"
   ]
  },
  {
   "cell_type": "code",
   "execution_count": null,
   "metadata": {},
   "outputs": [],
   "source": []
  }
 ],
 "metadata": {
  "kernelspec": {
   "display_name": "Python 3",
   "language": "python",
   "name": "python3"
  },
  "language_info": {
   "codemirror_mode": {
    "name": "ipython",
    "version": 3
   },
   "file_extension": ".py",
   "mimetype": "text/x-python",
   "name": "python",
   "nbconvert_exporter": "python",
   "pygments_lexer": "ipython3",
   "version": "3.7.3"
  }
 },
 "nbformat": 4,
 "nbformat_minor": 2
}
